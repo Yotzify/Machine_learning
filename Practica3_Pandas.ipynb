{
  "nbformat": 4,
  "nbformat_minor": 0,
  "metadata": {
    "colab": {
      "name": "Copia de Practica3_Pandas.ipynb",
      "provenance": [],
      "collapsed_sections": [],
      "include_colab_link": true
    },
    "kernelspec": {
      "display_name": "Python 3",
      "language": "python",
      "name": "python3"
    },
    "language_info": {
      "codemirror_mode": {
        "name": "ipython",
        "version": 3
      },
      "file_extension": ".py",
      "mimetype": "text/x-python",
      "name": "python",
      "nbconvert_exporter": "python",
      "pygments_lexer": "ipython3",
      "version": "3.7.6"
    }
  },
  "cells": [
    {
      "cell_type": "markdown",
      "metadata": {
        "id": "view-in-github",
        "colab_type": "text"
      },
      "source": [
        "<a href=\"https://colab.research.google.com/github/Yotzify/Machine_learning/blob/master/Practica3_Pandas.ipynb\" target=\"_parent\"><img src=\"https://colab.research.google.com/assets/colab-badge.svg\" alt=\"Open In Colab\"/></a>"
      ]
    },
    {
      "cell_type": "markdown",
      "metadata": {
        "colab_type": "text",
        "id": "U27yy_exrI8z"
      },
      "source": [
        "# Analizando las estadísticas de jugadores de futbol con Pandas\n",
        "\n",
        "![FIFA](https://upload.wikimedia.org/wikipedia/commons/thumb/a/aa/FIFA_logo_without_slogan.svg/1200px-FIFA_logo_without_slogan.svg.png)\n",
        "\n",
        "En esta notebook, utilizarás Pandas para analizar datos de jugadores de futbol (soccer). Los datos se encuentran en forma tabular e incluyen información relevante de jugadores de futbol de todo el mundo.\n",
        "\n",
        "---\n",
        "\n",
        "\n",
        "Cada fila en el conjunto de datos contiene información sobre el jugador:\n",
        "* Información personal: Nombre, nacionalidad, , edad, altura, peso y pierna preferida al jugar.\n",
        "* Información como jugador: Nombre del equipo en el que juega (Club), número de playera, posición en el campo (abreviada), valor comercial y salario.\n",
        "* Información sobre sus habilidades como jugador (0-100): Overall, Potential, Shooting, Defense, Passing, Physical, Control, Mental y GoalKeeping.\n",
        "\n",
        "\n",
        "Durante la notebook llevarás a cabo tareas de tratamiento y análisis exploratorio de datos comunmente realizadas. Buscarás información que podría resultar útil para las organizaciones.\n",
        "\n",
        "\n",
        "\n",
        "---\n",
        "\n",
        "\n",
        "\n",
        "Recuerda que puedes acudir a la [documentación de Pandas](https://pandas.pydata.org/pandas-docs/stable/reference/index.html) o a la notebook de Pandas.\n",
        "\n"
      ]
    },
    {
      "cell_type": "markdown",
      "metadata": {
        "colab_type": "text",
        "id": "YK63u5jI9TkW"
      },
      "source": [
        "Primero, importa Pandas en tu notebook:"
      ]
    },
    {
      "cell_type": "code",
      "metadata": {
        "colab_type": "code",
        "id": "3N4heqrqrFiv",
        "colab": {}
      },
      "source": [
        "# pandas usando el alias pd\n",
        "import pandas as pd"
      ],
      "execution_count": 55,
      "outputs": []
    },
    {
      "cell_type": "markdown",
      "metadata": {
        "colab_type": "text",
        "id": "iWSmUVFgrJxA"
      },
      "source": [
        "Ejecuta la siguiente celda para cargar el conjunto de datos desde el repositorio en github a la máquina en colab."
      ]
    },
    {
      "cell_type": "code",
      "metadata": {
        "colab_type": "code",
        "id": "4touD7BqrOmJ",
        "colab": {
          "base_uri": "https://localhost:8080/",
          "height": 69
        },
        "outputId": "ff546252-ccce-4849-89ce-c3f79e17e300"
      },
      "source": [
        "# Fetch the dataset using the raw GitHub URL.\n",
        "!curl --remote-name \\\n",
        "     -H 'Accept: application/vnd.github.v3.raw' \\\n",
        "     --location https://raw.githubusercontent.com/MauricioRR-Tec/Machine-Learning/master/Notebooks/data/players.csv"
      ],
      "execution_count": 56,
      "outputs": [
        {
          "output_type": "stream",
          "text": [
            "  % Total    % Received % Xferd  Average Speed   Time    Time     Time  Current\n",
            "                                 Dload  Upload   Total   Spent    Left  Speed\n",
            "100 1955k  100 1955k    0     0  5027k      0 --:--:-- --:--:-- --:--:-- 5014k\n"
          ],
          "name": "stdout"
        }
      ]
    },
    {
      "cell_type": "markdown",
      "metadata": {
        "colab_type": "text",
        "id": "p5y0gMcxsRzY"
      },
      "source": [
        "Veamos las primeras líneas del archivo usando un comando de linux en la celda de colab:"
      ]
    },
    {
      "cell_type": "code",
      "metadata": {
        "colab_type": "code",
        "id": "-9y9q8fxsSCl",
        "colab": {
          "base_uri": "https://localhost:8080/",
          "height": 104
        },
        "outputId": "1426ce11-ff23-4355-e634-128da03d084e"
      },
      "source": [
        "!head -n 5 players.csv"
      ],
      "execution_count": 57,
      "outputs": [
        {
          "output_type": "stream",
          "text": [
            "ID,Name,Nationality,Club,Jersey Number,Value,Wage,Age,Height,Weight,Preferred Foot,Position,Overall,Potential,Shooting,Defense,Passing,Physical,Control,Mental,GoalKeeping\n",
            "158023,L. Messi,Argentina,FC Barcelona,10.0,€110.5M,€565K,31,5'7,159lbs,Left,RF,94,94,86,41,87,80,96,95,11\n",
            "20801,Cristiano Ronaldo,Portugal,Juventus,7.0,€77M,€405K,33,6'2,183lbs,Right,ST,94,94,88,41,81,86,84,91,12\n",
            "190871,Neymar Jr,Brazil,Paris Saint-Germain,10.0,€118.5M,€290K,26,5'9,150lbs,Right,LW,92,93,81,42,80,79,92,92,12\n",
            "193080,De Gea,Spain,Manchester United,1.0,€72M,€260K,27,6'4,168lbs,Right,GK,91,93,21,18,39,56,34,75,89\n"
          ],
          "name": "stdout"
        }
      ]
    },
    {
      "cell_type": "markdown",
      "metadata": {
        "colab_type": "text",
        "id": "2llZPBeYr5EW"
      },
      "source": [
        "## Carga el conjunto de datos FIFA usando pandas"
      ]
    },
    {
      "cell_type": "code",
      "metadata": {
        "colab_type": "code",
        "id": "qpE38xDqr4xX",
        "colab": {
          "base_uri": "https://localhost:8080/",
          "height": 289
        },
        "outputId": "611d85b7-2307-4f6f-e1bb-38d542b9fe87"
      },
      "source": [
        "# leer el dataframe usando read_csv\n",
        "fifa_df = pd.read_csv(\"players.csv\", sep=',', header=0)\n",
        "# mostrar los primeros elementos con head\n",
        "fifa_df.head()"
      ],
      "execution_count": 58,
      "outputs": [
        {
          "output_type": "execute_result",
          "data": {
            "text/html": [
              "<div>\n",
              "<style scoped>\n",
              "    .dataframe tbody tr th:only-of-type {\n",
              "        vertical-align: middle;\n",
              "    }\n",
              "\n",
              "    .dataframe tbody tr th {\n",
              "        vertical-align: top;\n",
              "    }\n",
              "\n",
              "    .dataframe thead th {\n",
              "        text-align: right;\n",
              "    }\n",
              "</style>\n",
              "<table border=\"1\" class=\"dataframe\">\n",
              "  <thead>\n",
              "    <tr style=\"text-align: right;\">\n",
              "      <th></th>\n",
              "      <th>ID</th>\n",
              "      <th>Name</th>\n",
              "      <th>Nationality</th>\n",
              "      <th>Club</th>\n",
              "      <th>Jersey Number</th>\n",
              "      <th>Value</th>\n",
              "      <th>Wage</th>\n",
              "      <th>Age</th>\n",
              "      <th>Height</th>\n",
              "      <th>Weight</th>\n",
              "      <th>Preferred Foot</th>\n",
              "      <th>Position</th>\n",
              "      <th>Overall</th>\n",
              "      <th>Potential</th>\n",
              "      <th>Shooting</th>\n",
              "      <th>Defense</th>\n",
              "      <th>Passing</th>\n",
              "      <th>Physical</th>\n",
              "      <th>Control</th>\n",
              "      <th>Mental</th>\n",
              "      <th>GoalKeeping</th>\n",
              "    </tr>\n",
              "  </thead>\n",
              "  <tbody>\n",
              "    <tr>\n",
              "      <th>0</th>\n",
              "      <td>158023</td>\n",
              "      <td>L. Messi</td>\n",
              "      <td>Argentina</td>\n",
              "      <td>FC Barcelona</td>\n",
              "      <td>10.0</td>\n",
              "      <td>€110.5M</td>\n",
              "      <td>€565K</td>\n",
              "      <td>31</td>\n",
              "      <td>5'7</td>\n",
              "      <td>159lbs</td>\n",
              "      <td>Left</td>\n",
              "      <td>RF</td>\n",
              "      <td>94</td>\n",
              "      <td>94</td>\n",
              "      <td>86.0</td>\n",
              "      <td>41.0</td>\n",
              "      <td>87.0</td>\n",
              "      <td>80.0</td>\n",
              "      <td>96.0</td>\n",
              "      <td>95.0</td>\n",
              "      <td>11.0</td>\n",
              "    </tr>\n",
              "    <tr>\n",
              "      <th>1</th>\n",
              "      <td>20801</td>\n",
              "      <td>Cristiano Ronaldo</td>\n",
              "      <td>Portugal</td>\n",
              "      <td>Juventus</td>\n",
              "      <td>7.0</td>\n",
              "      <td>€77M</td>\n",
              "      <td>€405K</td>\n",
              "      <td>33</td>\n",
              "      <td>6'2</td>\n",
              "      <td>183lbs</td>\n",
              "      <td>Right</td>\n",
              "      <td>ST</td>\n",
              "      <td>94</td>\n",
              "      <td>94</td>\n",
              "      <td>88.0</td>\n",
              "      <td>41.0</td>\n",
              "      <td>81.0</td>\n",
              "      <td>86.0</td>\n",
              "      <td>84.0</td>\n",
              "      <td>91.0</td>\n",
              "      <td>12.0</td>\n",
              "    </tr>\n",
              "    <tr>\n",
              "      <th>2</th>\n",
              "      <td>190871</td>\n",
              "      <td>Neymar Jr</td>\n",
              "      <td>Brazil</td>\n",
              "      <td>Paris Saint-Germain</td>\n",
              "      <td>10.0</td>\n",
              "      <td>€118.5M</td>\n",
              "      <td>€290K</td>\n",
              "      <td>26</td>\n",
              "      <td>5'9</td>\n",
              "      <td>150lbs</td>\n",
              "      <td>Right</td>\n",
              "      <td>LW</td>\n",
              "      <td>92</td>\n",
              "      <td>93</td>\n",
              "      <td>81.0</td>\n",
              "      <td>42.0</td>\n",
              "      <td>80.0</td>\n",
              "      <td>79.0</td>\n",
              "      <td>92.0</td>\n",
              "      <td>92.0</td>\n",
              "      <td>12.0</td>\n",
              "    </tr>\n",
              "    <tr>\n",
              "      <th>3</th>\n",
              "      <td>193080</td>\n",
              "      <td>De Gea</td>\n",
              "      <td>Spain</td>\n",
              "      <td>Manchester United</td>\n",
              "      <td>1.0</td>\n",
              "      <td>€72M</td>\n",
              "      <td>€260K</td>\n",
              "      <td>27</td>\n",
              "      <td>6'4</td>\n",
              "      <td>168lbs</td>\n",
              "      <td>Right</td>\n",
              "      <td>GK</td>\n",
              "      <td>91</td>\n",
              "      <td>93</td>\n",
              "      <td>21.0</td>\n",
              "      <td>18.0</td>\n",
              "      <td>39.0</td>\n",
              "      <td>56.0</td>\n",
              "      <td>34.0</td>\n",
              "      <td>75.0</td>\n",
              "      <td>89.0</td>\n",
              "    </tr>\n",
              "    <tr>\n",
              "      <th>4</th>\n",
              "      <td>192985</td>\n",
              "      <td>K. De Bruyne</td>\n",
              "      <td>Belgium</td>\n",
              "      <td>Manchester City</td>\n",
              "      <td>7.0</td>\n",
              "      <td>€102M</td>\n",
              "      <td>€355K</td>\n",
              "      <td>27</td>\n",
              "      <td>5'11</td>\n",
              "      <td>154lbs</td>\n",
              "      <td>Right</td>\n",
              "      <td>RCM</td>\n",
              "      <td>91</td>\n",
              "      <td>92</td>\n",
              "      <td>81.0</td>\n",
              "      <td>65.0</td>\n",
              "      <td>92.0</td>\n",
              "      <td>77.0</td>\n",
              "      <td>85.0</td>\n",
              "      <td>91.0</td>\n",
              "      <td>11.0</td>\n",
              "    </tr>\n",
              "  </tbody>\n",
              "</table>\n",
              "</div>"
            ],
            "text/plain": [
              "       ID               Name Nationality  ... Control  Mental GoalKeeping\n",
              "0  158023           L. Messi   Argentina  ...    96.0    95.0        11.0\n",
              "1   20801  Cristiano Ronaldo    Portugal  ...    84.0    91.0        12.0\n",
              "2  190871          Neymar Jr      Brazil  ...    92.0    92.0        12.0\n",
              "3  193080             De Gea       Spain  ...    34.0    75.0        89.0\n",
              "4  192985       K. De Bruyne     Belgium  ...    85.0    91.0        11.0\n",
              "\n",
              "[5 rows x 21 columns]"
            ]
          },
          "metadata": {
            "tags": []
          },
          "execution_count": 58
        }
      ]
    },
    {
      "cell_type": "markdown",
      "metadata": {
        "colab_type": "text",
        "id": "45oYL86ST8RO"
      },
      "source": [
        "## Características del dataset"
      ]
    },
    {
      "cell_type": "markdown",
      "metadata": {
        "colab_type": "text",
        "id": "NnVgDmdSdZQk"
      },
      "source": [
        "¿Qué tipos de datos contiene nuestro dataframe?"
      ]
    },
    {
      "cell_type": "code",
      "metadata": {
        "colab_type": "code",
        "id": "1kzDpxYK0EvY",
        "colab": {
          "base_uri": "https://localhost:8080/",
          "height": 381
        },
        "outputId": "b2b28874-2430-4424-e6f1-46ed1bb7fa54"
      },
      "source": [
        "for name, t in zip(fifa_df.columns, fifa_df.dtypes):\n",
        "  print(name, t)"
      ],
      "execution_count": 59,
      "outputs": [
        {
          "output_type": "stream",
          "text": [
            "ID int64\n",
            "Name object\n",
            "Nationality object\n",
            "Club object\n",
            "Jersey Number float64\n",
            "Value object\n",
            "Wage object\n",
            "Age int64\n",
            "Height object\n",
            "Weight object\n",
            "Preferred Foot object\n",
            "Position object\n",
            "Overall int64\n",
            "Potential int64\n",
            "Shooting float64\n",
            "Defense float64\n",
            "Passing float64\n",
            "Physical float64\n",
            "Control float64\n",
            "Mental float64\n",
            "GoalKeeping float64\n"
          ],
          "name": "stdout"
        }
      ]
    },
    {
      "cell_type": "markdown",
      "metadata": {
        "colab_type": "text",
        "id": "GWsJyCIMtscZ"
      },
      "source": [
        "¿Qué tamaño tiene nuestro dataset?\n",
        "\n",
        "Utiliza el método ```shape``` para conocer el número de filas y columnas en el dataframe."
      ]
    },
    {
      "cell_type": "code",
      "metadata": {
        "colab_type": "code",
        "id": "d3qNHHbAtxNp",
        "colab": {
          "base_uri": "https://localhost:8080/",
          "height": 52
        },
        "outputId": "3206051c-3569-425a-de67-accb6ec5f04c"
      },
      "source": [
        "m,n = fifa_df.shape\n",
        "print(\"Filas:\", m)\n",
        "print(\"Columnas:\", n)"
      ],
      "execution_count": 60,
      "outputs": [
        {
          "output_type": "stream",
          "text": [
            "Filas: 18207\n",
            "Columnas: 21\n"
          ],
          "name": "stdout"
        }
      ]
    },
    {
      "cell_type": "code",
      "metadata": {
        "colab_type": "code",
        "id": "yjcIL89FuA0u",
        "colab": {}
      },
      "source": [
        "assert m == 18207 and n == 21, \"Error en las dimensiones\""
      ],
      "execution_count": 61,
      "outputs": []
    },
    {
      "cell_type": "markdown",
      "metadata": {
        "colab_type": "text",
        "id": "xk3ES367UKfQ"
      },
      "source": [
        "### Estadísticas generales del dataset.\n",
        "\n",
        "Usa ```describre()``` para mostrar las estadísticas generales de las columnas numéricas en el dataframe."
      ]
    },
    {
      "cell_type": "code",
      "metadata": {
        "colab_type": "code",
        "id": "QKmF6WUUUKuM",
        "colab": {
          "base_uri": "https://localhost:8080/",
          "height": 294
        },
        "outputId": "a5830445-78f5-43a1-cef4-b95caa178ffa"
      },
      "source": [
        "fifa_df.describe()"
      ],
      "execution_count": 62,
      "outputs": [
        {
          "output_type": "execute_result",
          "data": {
            "text/html": [
              "<div>\n",
              "<style scoped>\n",
              "    .dataframe tbody tr th:only-of-type {\n",
              "        vertical-align: middle;\n",
              "    }\n",
              "\n",
              "    .dataframe tbody tr th {\n",
              "        vertical-align: top;\n",
              "    }\n",
              "\n",
              "    .dataframe thead th {\n",
              "        text-align: right;\n",
              "    }\n",
              "</style>\n",
              "<table border=\"1\" class=\"dataframe\">\n",
              "  <thead>\n",
              "    <tr style=\"text-align: right;\">\n",
              "      <th></th>\n",
              "      <th>ID</th>\n",
              "      <th>Jersey Number</th>\n",
              "      <th>Age</th>\n",
              "      <th>Overall</th>\n",
              "      <th>Potential</th>\n",
              "      <th>Shooting</th>\n",
              "      <th>Defense</th>\n",
              "      <th>Passing</th>\n",
              "      <th>Physical</th>\n",
              "      <th>Control</th>\n",
              "      <th>Mental</th>\n",
              "      <th>GoalKeeping</th>\n",
              "    </tr>\n",
              "  </thead>\n",
              "  <tbody>\n",
              "    <tr>\n",
              "      <th>count</th>\n",
              "      <td>18207.000000</td>\n",
              "      <td>18147.000000</td>\n",
              "      <td>18207.000000</td>\n",
              "      <td>18207.000000</td>\n",
              "      <td>18207.000000</td>\n",
              "      <td>18159.000000</td>\n",
              "      <td>18159.000000</td>\n",
              "      <td>18159.000000</td>\n",
              "      <td>18159.000000</td>\n",
              "      <td>18159.000000</td>\n",
              "      <td>18159.000000</td>\n",
              "      <td>18159.000000</td>\n",
              "    </tr>\n",
              "    <tr>\n",
              "      <th>mean</th>\n",
              "      <td>214298.338606</td>\n",
              "      <td>19.546096</td>\n",
              "      <td>25.122206</td>\n",
              "      <td>66.238699</td>\n",
              "      <td>71.307299</td>\n",
              "      <td>47.736274</td>\n",
              "      <td>47.459001</td>\n",
              "      <td>53.710612</td>\n",
              "      <td>64.344512</td>\n",
              "      <td>59.236357</td>\n",
              "      <td>57.958974</td>\n",
              "      <td>16.468087</td>\n",
              "    </tr>\n",
              "    <tr>\n",
              "      <th>std</th>\n",
              "      <td>29965.244204</td>\n",
              "      <td>15.947765</td>\n",
              "      <td>4.669943</td>\n",
              "      <td>6.908930</td>\n",
              "      <td>6.136496</td>\n",
              "      <td>15.621702</td>\n",
              "      <td>17.314439</td>\n",
              "      <td>15.113052</td>\n",
              "      <td>9.839120</td>\n",
              "      <td>15.156389</td>\n",
              "      <td>9.933340</td>\n",
              "      <td>17.002775</td>\n",
              "    </tr>\n",
              "    <tr>\n",
              "      <th>min</th>\n",
              "      <td>16.000000</td>\n",
              "      <td>1.000000</td>\n",
              "      <td>16.000000</td>\n",
              "      <td>46.000000</td>\n",
              "      <td>48.000000</td>\n",
              "      <td>7.000000</td>\n",
              "      <td>7.000000</td>\n",
              "      <td>8.000000</td>\n",
              "      <td>22.000000</td>\n",
              "      <td>12.000000</td>\n",
              "      <td>25.000000</td>\n",
              "      <td>1.000000</td>\n",
              "    </tr>\n",
              "    <tr>\n",
              "      <th>25%</th>\n",
              "      <td>200315.500000</td>\n",
              "      <td>8.000000</td>\n",
              "      <td>21.000000</td>\n",
              "      <td>62.000000</td>\n",
              "      <td>67.000000</td>\n",
              "      <td>39.000000</td>\n",
              "      <td>35.000000</td>\n",
              "      <td>46.000000</td>\n",
              "      <td>60.000000</td>\n",
              "      <td>54.000000</td>\n",
              "      <td>51.000000</td>\n",
              "      <td>10.000000</td>\n",
              "    </tr>\n",
              "    <tr>\n",
              "      <th>50%</th>\n",
              "      <td>221759.000000</td>\n",
              "      <td>17.000000</td>\n",
              "      <td>25.000000</td>\n",
              "      <td>66.000000</td>\n",
              "      <td>71.000000</td>\n",
              "      <td>50.000000</td>\n",
              "      <td>52.000000</td>\n",
              "      <td>57.000000</td>\n",
              "      <td>66.000000</td>\n",
              "      <td>63.000000</td>\n",
              "      <td>58.000000</td>\n",
              "      <td>11.000000</td>\n",
              "    </tr>\n",
              "    <tr>\n",
              "      <th>75%</th>\n",
              "      <td>236529.500000</td>\n",
              "      <td>26.000000</td>\n",
              "      <td>28.000000</td>\n",
              "      <td>71.000000</td>\n",
              "      <td>75.000000</td>\n",
              "      <td>59.000000</td>\n",
              "      <td>61.000000</td>\n",
              "      <td>64.000000</td>\n",
              "      <td>71.000000</td>\n",
              "      <td>69.000000</td>\n",
              "      <td>65.000000</td>\n",
              "      <td>12.000000</td>\n",
              "    </tr>\n",
              "    <tr>\n",
              "      <th>max</th>\n",
              "      <td>246620.000000</td>\n",
              "      <td>99.000000</td>\n",
              "      <td>45.000000</td>\n",
              "      <td>94.000000</td>\n",
              "      <td>95.000000</td>\n",
              "      <td>88.000000</td>\n",
              "      <td>86.000000</td>\n",
              "      <td>92.000000</td>\n",
              "      <td>89.000000</td>\n",
              "      <td>96.000000</td>\n",
              "      <td>95.000000</td>\n",
              "      <td>89.000000</td>\n",
              "    </tr>\n",
              "  </tbody>\n",
              "</table>\n",
              "</div>"
            ],
            "text/plain": [
              "                  ID  Jersey Number  ...        Mental   GoalKeeping\n",
              "count   18207.000000   18147.000000  ...  18159.000000  18159.000000\n",
              "mean   214298.338606      19.546096  ...     57.958974     16.468087\n",
              "std     29965.244204      15.947765  ...      9.933340     17.002775\n",
              "min        16.000000       1.000000  ...     25.000000      1.000000\n",
              "25%    200315.500000       8.000000  ...     51.000000     10.000000\n",
              "50%    221759.000000      17.000000  ...     58.000000     11.000000\n",
              "75%    236529.500000      26.000000  ...     65.000000     12.000000\n",
              "max    246620.000000      99.000000  ...     95.000000     89.000000\n",
              "\n",
              "[8 rows x 12 columns]"
            ]
          },
          "metadata": {
            "tags": []
          },
          "execution_count": 62
        }
      ]
    },
    {
      "cell_type": "markdown",
      "metadata": {
        "colab_type": "text",
        "id": "M7gI3AUceQxn"
      },
      "source": [
        "## Tratamiento de datos\n"
      ]
    },
    {
      "cell_type": "markdown",
      "metadata": {
        "colab_type": "text",
        "id": "lY9Wx2ZVjLfE"
      },
      "source": [
        "### Datos faltantes\n",
        "\n",
        "Antes de poder hacer transformaciones y operaciones en los datos, es importante identificar la posible existencia de datos faltantes. El método ```isna()``` de pandas, permite obtener un dataframe booleano que identifica entradas faltantes. \n",
        "\n",
        "Usémos ```isna()```, ```sum(axis=0)``` y ```to_frame().T``` para resumir el resultado de datos faltantes como un conteo por columnas:"
      ]
    },
    {
      "cell_type": "code",
      "metadata": {
        "colab_type": "code",
        "id": "4V_yaO_lOKnv",
        "colab": {
          "base_uri": "https://localhost:8080/",
          "height": 79
        },
        "outputId": "6ae3d3f3-92bb-45b1-e638-041702b75a7e"
      },
      "source": [
        "fifa_df.isna().sum(axis=0).to_frame().T"
      ],
      "execution_count": 63,
      "outputs": [
        {
          "output_type": "execute_result",
          "data": {
            "text/html": [
              "<div>\n",
              "<style scoped>\n",
              "    .dataframe tbody tr th:only-of-type {\n",
              "        vertical-align: middle;\n",
              "    }\n",
              "\n",
              "    .dataframe tbody tr th {\n",
              "        vertical-align: top;\n",
              "    }\n",
              "\n",
              "    .dataframe thead th {\n",
              "        text-align: right;\n",
              "    }\n",
              "</style>\n",
              "<table border=\"1\" class=\"dataframe\">\n",
              "  <thead>\n",
              "    <tr style=\"text-align: right;\">\n",
              "      <th></th>\n",
              "      <th>ID</th>\n",
              "      <th>Name</th>\n",
              "      <th>Nationality</th>\n",
              "      <th>Club</th>\n",
              "      <th>Jersey Number</th>\n",
              "      <th>Value</th>\n",
              "      <th>Wage</th>\n",
              "      <th>Age</th>\n",
              "      <th>Height</th>\n",
              "      <th>Weight</th>\n",
              "      <th>Preferred Foot</th>\n",
              "      <th>Position</th>\n",
              "      <th>Overall</th>\n",
              "      <th>Potential</th>\n",
              "      <th>Shooting</th>\n",
              "      <th>Defense</th>\n",
              "      <th>Passing</th>\n",
              "      <th>Physical</th>\n",
              "      <th>Control</th>\n",
              "      <th>Mental</th>\n",
              "      <th>GoalKeeping</th>\n",
              "    </tr>\n",
              "  </thead>\n",
              "  <tbody>\n",
              "    <tr>\n",
              "      <th>0</th>\n",
              "      <td>0</td>\n",
              "      <td>0</td>\n",
              "      <td>0</td>\n",
              "      <td>241</td>\n",
              "      <td>60</td>\n",
              "      <td>0</td>\n",
              "      <td>0</td>\n",
              "      <td>0</td>\n",
              "      <td>48</td>\n",
              "      <td>48</td>\n",
              "      <td>48</td>\n",
              "      <td>60</td>\n",
              "      <td>0</td>\n",
              "      <td>0</td>\n",
              "      <td>48</td>\n",
              "      <td>48</td>\n",
              "      <td>48</td>\n",
              "      <td>48</td>\n",
              "      <td>48</td>\n",
              "      <td>48</td>\n",
              "      <td>48</td>\n",
              "    </tr>\n",
              "  </tbody>\n",
              "</table>\n",
              "</div>"
            ],
            "text/plain": [
              "   ID  Name  Nationality  Club  ...  Physical  Control  Mental  GoalKeeping\n",
              "0   0     0            0   241  ...        48       48      48           48\n",
              "\n",
              "[1 rows x 21 columns]"
            ]
          },
          "metadata": {
            "tags": []
          },
          "execution_count": 63
        }
      ]
    },
    {
      "cell_type": "markdown",
      "metadata": {
        "colab_type": "text",
        "id": "sqr4xWue_fyB"
      },
      "source": [
        "Una manera de tratar con datos faltantes, es eliminar las filas que contienen uno o más datos faltantes, dejando solo registros completos.\n",
        "\n",
        "Ya que para nuestro conjunto de datos la cantidad de faltantes es mínima, podemos usar esta estrategia.\n",
        "\n",
        "Completa la siguiente celda para eliminar filas (```axis=0```) que contengan algún dato faltante (```dropna```):"
      ]
    },
    {
      "cell_type": "code",
      "metadata": {
        "colab_type": "code",
        "id": "3mPe2ufH_RF0",
        "colab": {}
      },
      "source": [
        "t_df = fifa_df.dropna(axis=0, how='any')"
      ],
      "execution_count": 64,
      "outputs": []
    },
    {
      "cell_type": "markdown",
      "metadata": {
        "colab_type": "text",
        "id": "8uCtFmp1_wsC"
      },
      "source": [
        "Verifica que no hay más datos faltantes:"
      ]
    },
    {
      "cell_type": "code",
      "metadata": {
        "colab_type": "code",
        "id": "RvgIwrck_vFw",
        "colab": {
          "base_uri": "https://localhost:8080/",
          "height": 79
        },
        "outputId": "3a64c778-6b12-400c-cc50-63ae837d5016"
      },
      "source": [
        "empty_columns = t_df.isna().sum(axis=0).to_frame().T\n",
        "empty_columns"
      ],
      "execution_count": 65,
      "outputs": [
        {
          "output_type": "execute_result",
          "data": {
            "text/html": [
              "<div>\n",
              "<style scoped>\n",
              "    .dataframe tbody tr th:only-of-type {\n",
              "        vertical-align: middle;\n",
              "    }\n",
              "\n",
              "    .dataframe tbody tr th {\n",
              "        vertical-align: top;\n",
              "    }\n",
              "\n",
              "    .dataframe thead th {\n",
              "        text-align: right;\n",
              "    }\n",
              "</style>\n",
              "<table border=\"1\" class=\"dataframe\">\n",
              "  <thead>\n",
              "    <tr style=\"text-align: right;\">\n",
              "      <th></th>\n",
              "      <th>ID</th>\n",
              "      <th>Name</th>\n",
              "      <th>Nationality</th>\n",
              "      <th>Club</th>\n",
              "      <th>Jersey Number</th>\n",
              "      <th>Value</th>\n",
              "      <th>Wage</th>\n",
              "      <th>Age</th>\n",
              "      <th>Height</th>\n",
              "      <th>Weight</th>\n",
              "      <th>Preferred Foot</th>\n",
              "      <th>Position</th>\n",
              "      <th>Overall</th>\n",
              "      <th>Potential</th>\n",
              "      <th>Shooting</th>\n",
              "      <th>Defense</th>\n",
              "      <th>Passing</th>\n",
              "      <th>Physical</th>\n",
              "      <th>Control</th>\n",
              "      <th>Mental</th>\n",
              "      <th>GoalKeeping</th>\n",
              "    </tr>\n",
              "  </thead>\n",
              "  <tbody>\n",
              "    <tr>\n",
              "      <th>0</th>\n",
              "      <td>0</td>\n",
              "      <td>0</td>\n",
              "      <td>0</td>\n",
              "      <td>0</td>\n",
              "      <td>0</td>\n",
              "      <td>0</td>\n",
              "      <td>0</td>\n",
              "      <td>0</td>\n",
              "      <td>0</td>\n",
              "      <td>0</td>\n",
              "      <td>0</td>\n",
              "      <td>0</td>\n",
              "      <td>0</td>\n",
              "      <td>0</td>\n",
              "      <td>0</td>\n",
              "      <td>0</td>\n",
              "      <td>0</td>\n",
              "      <td>0</td>\n",
              "      <td>0</td>\n",
              "      <td>0</td>\n",
              "      <td>0</td>\n",
              "    </tr>\n",
              "  </tbody>\n",
              "</table>\n",
              "</div>"
            ],
            "text/plain": [
              "   ID  Name  Nationality  Club  ...  Physical  Control  Mental  GoalKeeping\n",
              "0   0     0            0     0  ...         0        0       0            0\n",
              "\n",
              "[1 rows x 21 columns]"
            ]
          },
          "metadata": {
            "tags": []
          },
          "execution_count": 65
        }
      ]
    },
    {
      "cell_type": "code",
      "metadata": {
        "colab_type": "code",
        "id": "mnwBq3J1-jp1",
        "colab": {}
      },
      "source": [
        "assert empty_columns.values.sum() == 0, \"Error, aun hay datos faltantes\""
      ],
      "execution_count": 66,
      "outputs": []
    },
    {
      "cell_type": "markdown",
      "metadata": {
        "colab_type": "text",
        "id": "oiKIUMTTAvVX"
      },
      "source": [
        "Finalmente, reemplazar el dataframe original por el nuevo sin elementos faltantes."
      ]
    },
    {
      "cell_type": "code",
      "metadata": {
        "colab_type": "code",
        "id": "0U8cSIyJAvpA",
        "colab": {}
      },
      "source": [
        "fifa_df = t_df"
      ],
      "execution_count": 67,
      "outputs": []
    },
    {
      "cell_type": "markdown",
      "metadata": {
        "colab_type": "text",
        "id": "-JYl7aVLjHkH"
      },
      "source": [
        "### Transformaciones\n",
        "\n",
        "Las celdas fueron inferidas como tipo ```object``` por pandas. Algunas de éstas contienen datos numéricos que podrían ser útiles para el análisis. \n",
        "\n",
        "Por ejemplo, las columnas ```Wage``` y ```Value``` contienen datos sobre el salario y el valor en el mercado de cada jugador. Ambas columnas contienen el signo de la moneda (€) al inicio y al final pueden contener la abreviación de cantidades (K miles, M millones). \n",
        "\n",
        "Debemos realizar un tratamiento de datos en tales columnas para poder usarlas de manera numérica."
      ]
    },
    {
      "cell_type": "markdown",
      "metadata": {
        "colab_type": "text",
        "id": "maMPRPAzxbqX"
      },
      "source": [
        "Primero, confirmemos que solo tenemos casos donde las cantidades terminan en K, M o sin abreviaturas. Usemos funciones de agregación.\n",
        "\n",
        "Contemos las veces que aparecen los distintos caracteres al final de los registros en la columna ```Wage```:"
      ]
    },
    {
      "cell_type": "code",
      "metadata": {
        "colab_type": "code",
        "id": "VPojzkU5s_iJ",
        "colab": {
          "base_uri": "https://localhost:8080/",
          "height": 110
        },
        "outputId": "16c06607-27ce-4579-c123-fcb49d375ebe"
      },
      "source": [
        "fifa_df[[\"Wage\"]].groupby(fifa_df.Wage.str[-1]).count()"
      ],
      "execution_count": 68,
      "outputs": [
        {
          "output_type": "execute_result",
          "data": {
            "text/html": [
              "<div>\n",
              "<style scoped>\n",
              "    .dataframe tbody tr th:only-of-type {\n",
              "        vertical-align: middle;\n",
              "    }\n",
              "\n",
              "    .dataframe tbody tr th {\n",
              "        vertical-align: top;\n",
              "    }\n",
              "\n",
              "    .dataframe thead th {\n",
              "        text-align: right;\n",
              "    }\n",
              "</style>\n",
              "<table border=\"1\" class=\"dataframe\">\n",
              "  <thead>\n",
              "    <tr style=\"text-align: right;\">\n",
              "      <th></th>\n",
              "      <th>Wage</th>\n",
              "    </tr>\n",
              "    <tr>\n",
              "      <th>Wage</th>\n",
              "      <th></th>\n",
              "    </tr>\n",
              "  </thead>\n",
              "  <tbody>\n",
              "    <tr>\n",
              "      <th>K</th>\n",
              "      <td>17918</td>\n",
              "    </tr>\n",
              "  </tbody>\n",
              "</table>\n",
              "</div>"
            ],
            "text/plain": [
              "       Wage\n",
              "Wage       \n",
              "K     17918"
            ]
          },
          "metadata": {
            "tags": []
          },
          "execution_count": 68
        }
      ]
    },
    {
      "cell_type": "markdown",
      "metadata": {
        "colab_type": "text",
        "id": "aOrZkbQru0_0"
      },
      "source": [
        "Contemos las veces que aparecen los distintos caracteres al final de los registros en la columna ```Value```:"
      ]
    },
    {
      "cell_type": "code",
      "metadata": {
        "colab_type": "code",
        "id": "y1GjUZ4Gti1d",
        "colab": {
          "base_uri": "https://localhost:8080/",
          "height": 171
        },
        "outputId": "bf6ccffc-baa7-4327-fd47-1e1b5d169ef3"
      },
      "source": [
        "fifa_df[[\"Value\"]].groupby(fifa_df.Value.str[-1]).count()"
      ],
      "execution_count": 69,
      "outputs": [
        {
          "output_type": "execute_result",
          "data": {
            "text/html": [
              "<div>\n",
              "<style scoped>\n",
              "    .dataframe tbody tr th:only-of-type {\n",
              "        vertical-align: middle;\n",
              "    }\n",
              "\n",
              "    .dataframe tbody tr th {\n",
              "        vertical-align: top;\n",
              "    }\n",
              "\n",
              "    .dataframe thead th {\n",
              "        text-align: right;\n",
              "    }\n",
              "</style>\n",
              "<table border=\"1\" class=\"dataframe\">\n",
              "  <thead>\n",
              "    <tr style=\"text-align: right;\">\n",
              "      <th></th>\n",
              "      <th>Value</th>\n",
              "    </tr>\n",
              "    <tr>\n",
              "      <th>Value</th>\n",
              "      <th></th>\n",
              "    </tr>\n",
              "  </thead>\n",
              "  <tbody>\n",
              "    <tr>\n",
              "      <th>0</th>\n",
              "      <td>11</td>\n",
              "    </tr>\n",
              "    <tr>\n",
              "      <th>K</th>\n",
              "      <td>11060</td>\n",
              "    </tr>\n",
              "    <tr>\n",
              "      <th>M</th>\n",
              "      <td>6847</td>\n",
              "    </tr>\n",
              "  </tbody>\n",
              "</table>\n",
              "</div>"
            ],
            "text/plain": [
              "       Value\n",
              "Value       \n",
              "0         11\n",
              "K      11060\n",
              "M       6847"
            ]
          },
          "metadata": {
            "tags": []
          },
          "execution_count": 69
        }
      ]
    },
    {
      "cell_type": "code",
      "metadata": {
        "colab_type": "code",
        "id": "0Ar7f3NmeTWu",
        "colab": {}
      },
      "source": [
        "def currency_to_numeric(currency):\n",
        "  \"\"\"\n",
        "  La funcion recibe valores monetarios en un objeto de texto, los tranforma:\n",
        "  1- Elimina el simbolo de la moneda al inicio de la cadena\n",
        "  2- Extrae el caracter adicional al final de la cadena que indica el\n",
        "     multiplo de la cantidad (abreviatura). No siempre hay un simbolo.\n",
        "  3- Usa el valor para devolver la cantidad en numero (multiplica por el valor).\n",
        "  Ej: 250K pasa a 250000\n",
        "  ya que\n",
        "  1K = 1000\n",
        "  1M = 1000000\n",
        "  Sin letra solo parte numerica\n",
        "  \"\"\"\n",
        "  # el multiplo de K o M\n",
        "  symbols = 1\n",
        "  # Actualiza el valor de numeric con la cantidad en currency\n",
        "  numeric = 0.0\n",
        "\n",
        "  currency = currency.replace(\"$\", \"\")\n",
        "  currency = currency.replace(\"€\", \"\")\n",
        "\n",
        "  if \"K\" in currency:\n",
        "    symbols = 1000\n",
        "    currency = currency.replace(\"K\", \"\")\n",
        "\n",
        "  if \"M\" in currency:\n",
        "    symbols = 1000000\n",
        "    currency = currency.replace(\"M\", \"\")\n",
        "  \n",
        "  numeric = float(currency)*symbols\n",
        "\n",
        "  return numeric"
      ],
      "execution_count": 70,
      "outputs": []
    },
    {
      "cell_type": "markdown",
      "metadata": {
        "colab_type": "text",
        "id": "fvCFRq0shNl_"
      },
      "source": [
        "Prueba tu función:"
      ]
    },
    {
      "cell_type": "code",
      "metadata": {
        "colab_type": "code",
        "id": "LpevNclWhMBm",
        "colab": {
          "base_uri": "https://localhost:8080/",
          "height": 35
        },
        "outputId": "8f19882e-5701-4240-83c4-18d68a2c9d31"
      },
      "source": [
        "currency_to_numeric(\"$20K\")"
      ],
      "execution_count": 71,
      "outputs": [
        {
          "output_type": "execute_result",
          "data": {
            "text/plain": [
              "20000.0"
            ]
          },
          "metadata": {
            "tags": []
          },
          "execution_count": 71
        }
      ]
    },
    {
      "cell_type": "code",
      "metadata": {
        "colab_type": "code",
        "id": "Ti7YRyBRzzuk",
        "colab": {}
      },
      "source": [
        "assert currency_to_numeric(\"$20\") == 20.0 and currency_to_numeric(\"$50K\") == 50*10.0**3 and currency_to_numeric(\"$10M\") == 10*10.0**6, \"Error\""
      ],
      "execution_count": 72,
      "outputs": []
    },
    {
      "cell_type": "markdown",
      "metadata": {
        "colab_type": "text",
        "id": "2qhnh9vLhQSf"
      },
      "source": [
        "Cambia las columnas ```Wage``` y ```Value``` a numéricos usando ```currency_to_numeric``` elemento por elemento con ```applymap```:"
      ]
    },
    {
      "cell_type": "code",
      "metadata": {
        "colab_type": "code",
        "id": "Md4hPL9ohZXS",
        "colab": {
          "base_uri": "https://localhost:8080/",
          "height": 306
        },
        "outputId": "9793772f-0ca9-4644-b3a5-dec075864b53"
      },
      "source": [
        "fifa_df[[\"Wage\", \"Value\"]] = fifa_df[[\"Wage\", \"Value\"]].applymap(currency_to_numeric)\n",
        "fifa_df.head()"
      ],
      "execution_count": 73,
      "outputs": [
        {
          "output_type": "execute_result",
          "data": {
            "text/html": [
              "<div>\n",
              "<style scoped>\n",
              "    .dataframe tbody tr th:only-of-type {\n",
              "        vertical-align: middle;\n",
              "    }\n",
              "\n",
              "    .dataframe tbody tr th {\n",
              "        vertical-align: top;\n",
              "    }\n",
              "\n",
              "    .dataframe thead th {\n",
              "        text-align: right;\n",
              "    }\n",
              "</style>\n",
              "<table border=\"1\" class=\"dataframe\">\n",
              "  <thead>\n",
              "    <tr style=\"text-align: right;\">\n",
              "      <th></th>\n",
              "      <th>ID</th>\n",
              "      <th>Name</th>\n",
              "      <th>Nationality</th>\n",
              "      <th>Club</th>\n",
              "      <th>Jersey Number</th>\n",
              "      <th>Value</th>\n",
              "      <th>Wage</th>\n",
              "      <th>Age</th>\n",
              "      <th>Height</th>\n",
              "      <th>Weight</th>\n",
              "      <th>Preferred Foot</th>\n",
              "      <th>Position</th>\n",
              "      <th>Overall</th>\n",
              "      <th>Potential</th>\n",
              "      <th>Shooting</th>\n",
              "      <th>Defense</th>\n",
              "      <th>Passing</th>\n",
              "      <th>Physical</th>\n",
              "      <th>Control</th>\n",
              "      <th>Mental</th>\n",
              "      <th>GoalKeeping</th>\n",
              "    </tr>\n",
              "  </thead>\n",
              "  <tbody>\n",
              "    <tr>\n",
              "      <th>0</th>\n",
              "      <td>158023</td>\n",
              "      <td>L. Messi</td>\n",
              "      <td>Argentina</td>\n",
              "      <td>FC Barcelona</td>\n",
              "      <td>10.0</td>\n",
              "      <td>110500000.0</td>\n",
              "      <td>565000.0</td>\n",
              "      <td>31</td>\n",
              "      <td>5'7</td>\n",
              "      <td>159lbs</td>\n",
              "      <td>Left</td>\n",
              "      <td>RF</td>\n",
              "      <td>94</td>\n",
              "      <td>94</td>\n",
              "      <td>86.0</td>\n",
              "      <td>41.0</td>\n",
              "      <td>87.0</td>\n",
              "      <td>80.0</td>\n",
              "      <td>96.0</td>\n",
              "      <td>95.0</td>\n",
              "      <td>11.0</td>\n",
              "    </tr>\n",
              "    <tr>\n",
              "      <th>1</th>\n",
              "      <td>20801</td>\n",
              "      <td>Cristiano Ronaldo</td>\n",
              "      <td>Portugal</td>\n",
              "      <td>Juventus</td>\n",
              "      <td>7.0</td>\n",
              "      <td>77000000.0</td>\n",
              "      <td>405000.0</td>\n",
              "      <td>33</td>\n",
              "      <td>6'2</td>\n",
              "      <td>183lbs</td>\n",
              "      <td>Right</td>\n",
              "      <td>ST</td>\n",
              "      <td>94</td>\n",
              "      <td>94</td>\n",
              "      <td>88.0</td>\n",
              "      <td>41.0</td>\n",
              "      <td>81.0</td>\n",
              "      <td>86.0</td>\n",
              "      <td>84.0</td>\n",
              "      <td>91.0</td>\n",
              "      <td>12.0</td>\n",
              "    </tr>\n",
              "    <tr>\n",
              "      <th>2</th>\n",
              "      <td>190871</td>\n",
              "      <td>Neymar Jr</td>\n",
              "      <td>Brazil</td>\n",
              "      <td>Paris Saint-Germain</td>\n",
              "      <td>10.0</td>\n",
              "      <td>118500000.0</td>\n",
              "      <td>290000.0</td>\n",
              "      <td>26</td>\n",
              "      <td>5'9</td>\n",
              "      <td>150lbs</td>\n",
              "      <td>Right</td>\n",
              "      <td>LW</td>\n",
              "      <td>92</td>\n",
              "      <td>93</td>\n",
              "      <td>81.0</td>\n",
              "      <td>42.0</td>\n",
              "      <td>80.0</td>\n",
              "      <td>79.0</td>\n",
              "      <td>92.0</td>\n",
              "      <td>92.0</td>\n",
              "      <td>12.0</td>\n",
              "    </tr>\n",
              "    <tr>\n",
              "      <th>3</th>\n",
              "      <td>193080</td>\n",
              "      <td>De Gea</td>\n",
              "      <td>Spain</td>\n",
              "      <td>Manchester United</td>\n",
              "      <td>1.0</td>\n",
              "      <td>72000000.0</td>\n",
              "      <td>260000.0</td>\n",
              "      <td>27</td>\n",
              "      <td>6'4</td>\n",
              "      <td>168lbs</td>\n",
              "      <td>Right</td>\n",
              "      <td>GK</td>\n",
              "      <td>91</td>\n",
              "      <td>93</td>\n",
              "      <td>21.0</td>\n",
              "      <td>18.0</td>\n",
              "      <td>39.0</td>\n",
              "      <td>56.0</td>\n",
              "      <td>34.0</td>\n",
              "      <td>75.0</td>\n",
              "      <td>89.0</td>\n",
              "    </tr>\n",
              "    <tr>\n",
              "      <th>4</th>\n",
              "      <td>192985</td>\n",
              "      <td>K. De Bruyne</td>\n",
              "      <td>Belgium</td>\n",
              "      <td>Manchester City</td>\n",
              "      <td>7.0</td>\n",
              "      <td>102000000.0</td>\n",
              "      <td>355000.0</td>\n",
              "      <td>27</td>\n",
              "      <td>5'11</td>\n",
              "      <td>154lbs</td>\n",
              "      <td>Right</td>\n",
              "      <td>RCM</td>\n",
              "      <td>91</td>\n",
              "      <td>92</td>\n",
              "      <td>81.0</td>\n",
              "      <td>65.0</td>\n",
              "      <td>92.0</td>\n",
              "      <td>77.0</td>\n",
              "      <td>85.0</td>\n",
              "      <td>91.0</td>\n",
              "      <td>11.0</td>\n",
              "    </tr>\n",
              "  </tbody>\n",
              "</table>\n",
              "</div>"
            ],
            "text/plain": [
              "       ID               Name Nationality  ... Control  Mental  GoalKeeping\n",
              "0  158023           L. Messi   Argentina  ...    96.0    95.0         11.0\n",
              "1   20801  Cristiano Ronaldo    Portugal  ...    84.0    91.0         12.0\n",
              "2  190871          Neymar Jr      Brazil  ...    92.0    92.0         12.0\n",
              "3  193080             De Gea       Spain  ...    34.0    75.0         89.0\n",
              "4  192985       K. De Bruyne     Belgium  ...    85.0    91.0         11.0\n",
              "\n",
              "[5 rows x 21 columns]"
            ]
          },
          "metadata": {
            "tags": []
          },
          "execution_count": 73
        }
      ]
    },
    {
      "cell_type": "markdown",
      "metadata": {
        "colab_type": "text",
        "id": "sWhWdHIr4x7O"
      },
      "source": [
        "### Suplementando la información\n",
        "\n",
        "En el set de datos, tenemos una columna ```Position``` que indica la posición en la que el jugador se desempeña en el campo. Algo que podrás notar, es que originalmente la posición está de manera abreviada, si no conoces las abreviaturas, será complicado saber en qué posición juega cada jugador. \n",
        "\n",
        "\n",
        "Para solucionar esto, usémos otro set de datos para cambiar de abreviatura a algo más descriptivo, pero manteniendo la abreviatura.\n",
        "\n",
        "La siguiente imágen muestra las posiciónes más comunes en el campo:\n",
        "![Posiciones de juego](https://raw.githubusercontent.com/MauricioRR-Tec/Machine-Learning/master/Notebooks/images/SoccerFieldPositions.png)"
      ]
    },
    {
      "cell_type": "markdown",
      "metadata": {
        "colab_type": "text",
        "id": "juf6Sw6i64es"
      },
      "source": [
        "Vamos a utilizar un nuevo set de datos que contiene la abreviatura de cada posición (```Abbreviation```) y su significado (```Full```).\n",
        "\n",
        "Cargemos el archivo desde github a colab con la siguiente celda:"
      ]
    },
    {
      "cell_type": "code",
      "metadata": {
        "colab_type": "code",
        "id": "EpicEmIrAl7M",
        "colab": {
          "base_uri": "https://localhost:8080/",
          "height": 69
        },
        "outputId": "70aca0fa-3256-40eb-8848-700fb97393f5"
      },
      "source": [
        "# Fetch the dataset using the raw GitHub URL.\n",
        "!curl --remote-name \\\n",
        "     -H 'Accept: application/vnd.github.v3.raw' \\\n",
        "     --location https://raw.githubusercontent.com/MauricioRR-Tec/Machine-Learning/master/Notebooks/data/positions.csv"
      ],
      "execution_count": 74,
      "outputs": [
        {
          "output_type": "stream",
          "text": [
            "  % Total    % Received % Xferd  Average Speed   Time    Time     Time  Current\n",
            "                                 Dload  Upload   Total   Spent    Left  Speed\n",
            "100   772  100   772    0     0   3176      0 --:--:-- --:--:-- --:--:--  3163\n"
          ],
          "name": "stdout"
        }
      ]
    },
    {
      "cell_type": "markdown",
      "metadata": {
        "colab_type": "text",
        "id": "_8WhqOUzBxI0"
      },
      "source": [
        "Ejecuta la siguiente celda para crear y ver el nuevo dataframe con los datos de las posiciones:"
      ]
    },
    {
      "cell_type": "code",
      "metadata": {
        "colab_type": "code",
        "id": "fEuD-qyI4yWj",
        "colab": {
          "base_uri": "https://localhost:8080/",
          "height": 202
        },
        "outputId": "fe11add0-e442-42fd-f1ec-421dcce09cbe"
      },
      "source": [
        "positions_df = pd.read_csv(\"positions.csv\", header=0, skipinitialspace=True)\n",
        "positions_df.head()"
      ],
      "execution_count": 75,
      "outputs": [
        {
          "output_type": "execute_result",
          "data": {
            "text/html": [
              "<div>\n",
              "<style scoped>\n",
              "    .dataframe tbody tr th:only-of-type {\n",
              "        vertical-align: middle;\n",
              "    }\n",
              "\n",
              "    .dataframe tbody tr th {\n",
              "        vertical-align: top;\n",
              "    }\n",
              "\n",
              "    .dataframe thead th {\n",
              "        text-align: right;\n",
              "    }\n",
              "</style>\n",
              "<table border=\"1\" class=\"dataframe\">\n",
              "  <thead>\n",
              "    <tr style=\"text-align: right;\">\n",
              "      <th></th>\n",
              "      <th>Abbreviation</th>\n",
              "      <th>Full</th>\n",
              "    </tr>\n",
              "  </thead>\n",
              "  <tbody>\n",
              "    <tr>\n",
              "      <th>0</th>\n",
              "      <td>GK</td>\n",
              "      <td>Goalkeeper</td>\n",
              "    </tr>\n",
              "    <tr>\n",
              "      <th>1</th>\n",
              "      <td>SW</td>\n",
              "      <td>Sweeper</td>\n",
              "    </tr>\n",
              "    <tr>\n",
              "      <th>2</th>\n",
              "      <td>CB</td>\n",
              "      <td>Center Back</td>\n",
              "    </tr>\n",
              "    <tr>\n",
              "      <th>3</th>\n",
              "      <td>LCB</td>\n",
              "      <td>Left Center Back</td>\n",
              "    </tr>\n",
              "    <tr>\n",
              "      <th>4</th>\n",
              "      <td>RCB</td>\n",
              "      <td>Right Center Back</td>\n",
              "    </tr>\n",
              "  </tbody>\n",
              "</table>\n",
              "</div>"
            ],
            "text/plain": [
              "  Abbreviation               Full\n",
              "0           GK         Goalkeeper\n",
              "1           SW            Sweeper\n",
              "2           CB        Center Back\n",
              "3          LCB   Left Center Back\n",
              "4          RCB  Right Center Back"
            ]
          },
          "metadata": {
            "tags": []
          },
          "execution_count": 75
        }
      ]
    },
    {
      "cell_type": "markdown",
      "metadata": {
        "colab_type": "text",
        "id": "ZC62QetW7Ier"
      },
      "source": [
        "Utiliza el nuevo dataframe para actualizar la columna ```Position``` en el dataframe de jugadores por la posición descriptiva + abreviada.\n",
        "\n",
        "Primero, debemos de *unir* ambos dataframes, ambos comparten una columna (pero tienen diferentes nombre) la posición abreviada.\n",
        "\n",
        "Utiliza un método de pandas para unir el dataframe ```fifa_df``` con ```positions_df```.\n",
        "\n",
        "*Tip: Queremos unir los datos de la **izquierda** con una sola fila de los de la derecha.*"
      ]
    },
    {
      "cell_type": "code",
      "metadata": {
        "colab_type": "code",
        "id": "1UsLj_dY7UUG",
        "colab": {}
      },
      "source": [
        "merged_df = pd.merge(fifa_df, positions_df, how= 'left', left_on= 'Position', right_on='Abbreviation', )"
      ],
      "execution_count": 76,
      "outputs": []
    },
    {
      "cell_type": "code",
      "metadata": {
        "colab_type": "code",
        "id": "andWs45D6jV5",
        "colab": {
          "base_uri": "https://localhost:8080/",
          "height": 343
        },
        "outputId": "a3ae7ed8-739d-498a-96bd-d8b53432b057"
      },
      "source": [
        "merged_df.head()"
      ],
      "execution_count": 77,
      "outputs": [
        {
          "output_type": "execute_result",
          "data": {
            "text/html": [
              "<div>\n",
              "<style scoped>\n",
              "    .dataframe tbody tr th:only-of-type {\n",
              "        vertical-align: middle;\n",
              "    }\n",
              "\n",
              "    .dataframe tbody tr th {\n",
              "        vertical-align: top;\n",
              "    }\n",
              "\n",
              "    .dataframe thead th {\n",
              "        text-align: right;\n",
              "    }\n",
              "</style>\n",
              "<table border=\"1\" class=\"dataframe\">\n",
              "  <thead>\n",
              "    <tr style=\"text-align: right;\">\n",
              "      <th></th>\n",
              "      <th>ID</th>\n",
              "      <th>Name</th>\n",
              "      <th>Nationality</th>\n",
              "      <th>Club</th>\n",
              "      <th>Jersey Number</th>\n",
              "      <th>Value</th>\n",
              "      <th>Wage</th>\n",
              "      <th>Age</th>\n",
              "      <th>Height</th>\n",
              "      <th>Weight</th>\n",
              "      <th>Preferred Foot</th>\n",
              "      <th>Position</th>\n",
              "      <th>Overall</th>\n",
              "      <th>Potential</th>\n",
              "      <th>Shooting</th>\n",
              "      <th>Defense</th>\n",
              "      <th>Passing</th>\n",
              "      <th>Physical</th>\n",
              "      <th>Control</th>\n",
              "      <th>Mental</th>\n",
              "      <th>GoalKeeping</th>\n",
              "      <th>Abbreviation</th>\n",
              "      <th>Full</th>\n",
              "    </tr>\n",
              "  </thead>\n",
              "  <tbody>\n",
              "    <tr>\n",
              "      <th>0</th>\n",
              "      <td>158023</td>\n",
              "      <td>L. Messi</td>\n",
              "      <td>Argentina</td>\n",
              "      <td>FC Barcelona</td>\n",
              "      <td>10.0</td>\n",
              "      <td>110500000.0</td>\n",
              "      <td>565000.0</td>\n",
              "      <td>31</td>\n",
              "      <td>5'7</td>\n",
              "      <td>159lbs</td>\n",
              "      <td>Left</td>\n",
              "      <td>RF</td>\n",
              "      <td>94</td>\n",
              "      <td>94</td>\n",
              "      <td>86.0</td>\n",
              "      <td>41.0</td>\n",
              "      <td>87.0</td>\n",
              "      <td>80.0</td>\n",
              "      <td>96.0</td>\n",
              "      <td>95.0</td>\n",
              "      <td>11.0</td>\n",
              "      <td>RF</td>\n",
              "      <td>Right Forward</td>\n",
              "    </tr>\n",
              "    <tr>\n",
              "      <th>1</th>\n",
              "      <td>20801</td>\n",
              "      <td>Cristiano Ronaldo</td>\n",
              "      <td>Portugal</td>\n",
              "      <td>Juventus</td>\n",
              "      <td>7.0</td>\n",
              "      <td>77000000.0</td>\n",
              "      <td>405000.0</td>\n",
              "      <td>33</td>\n",
              "      <td>6'2</td>\n",
              "      <td>183lbs</td>\n",
              "      <td>Right</td>\n",
              "      <td>ST</td>\n",
              "      <td>94</td>\n",
              "      <td>94</td>\n",
              "      <td>88.0</td>\n",
              "      <td>41.0</td>\n",
              "      <td>81.0</td>\n",
              "      <td>86.0</td>\n",
              "      <td>84.0</td>\n",
              "      <td>91.0</td>\n",
              "      <td>12.0</td>\n",
              "      <td>ST</td>\n",
              "      <td>Striker</td>\n",
              "    </tr>\n",
              "    <tr>\n",
              "      <th>2</th>\n",
              "      <td>190871</td>\n",
              "      <td>Neymar Jr</td>\n",
              "      <td>Brazil</td>\n",
              "      <td>Paris Saint-Germain</td>\n",
              "      <td>10.0</td>\n",
              "      <td>118500000.0</td>\n",
              "      <td>290000.0</td>\n",
              "      <td>26</td>\n",
              "      <td>5'9</td>\n",
              "      <td>150lbs</td>\n",
              "      <td>Right</td>\n",
              "      <td>LW</td>\n",
              "      <td>92</td>\n",
              "      <td>93</td>\n",
              "      <td>81.0</td>\n",
              "      <td>42.0</td>\n",
              "      <td>80.0</td>\n",
              "      <td>79.0</td>\n",
              "      <td>92.0</td>\n",
              "      <td>92.0</td>\n",
              "      <td>12.0</td>\n",
              "      <td>LW</td>\n",
              "      <td>Left Wing</td>\n",
              "    </tr>\n",
              "    <tr>\n",
              "      <th>3</th>\n",
              "      <td>193080</td>\n",
              "      <td>De Gea</td>\n",
              "      <td>Spain</td>\n",
              "      <td>Manchester United</td>\n",
              "      <td>1.0</td>\n",
              "      <td>72000000.0</td>\n",
              "      <td>260000.0</td>\n",
              "      <td>27</td>\n",
              "      <td>6'4</td>\n",
              "      <td>168lbs</td>\n",
              "      <td>Right</td>\n",
              "      <td>GK</td>\n",
              "      <td>91</td>\n",
              "      <td>93</td>\n",
              "      <td>21.0</td>\n",
              "      <td>18.0</td>\n",
              "      <td>39.0</td>\n",
              "      <td>56.0</td>\n",
              "      <td>34.0</td>\n",
              "      <td>75.0</td>\n",
              "      <td>89.0</td>\n",
              "      <td>GK</td>\n",
              "      <td>Goalkeeper</td>\n",
              "    </tr>\n",
              "    <tr>\n",
              "      <th>4</th>\n",
              "      <td>192985</td>\n",
              "      <td>K. De Bruyne</td>\n",
              "      <td>Belgium</td>\n",
              "      <td>Manchester City</td>\n",
              "      <td>7.0</td>\n",
              "      <td>102000000.0</td>\n",
              "      <td>355000.0</td>\n",
              "      <td>27</td>\n",
              "      <td>5'11</td>\n",
              "      <td>154lbs</td>\n",
              "      <td>Right</td>\n",
              "      <td>RCM</td>\n",
              "      <td>91</td>\n",
              "      <td>92</td>\n",
              "      <td>81.0</td>\n",
              "      <td>65.0</td>\n",
              "      <td>92.0</td>\n",
              "      <td>77.0</td>\n",
              "      <td>85.0</td>\n",
              "      <td>91.0</td>\n",
              "      <td>11.0</td>\n",
              "      <td>RCM</td>\n",
              "      <td>Right Center Midfield</td>\n",
              "    </tr>\n",
              "  </tbody>\n",
              "</table>\n",
              "</div>"
            ],
            "text/plain": [
              "       ID               Name  ... Abbreviation                   Full\n",
              "0  158023           L. Messi  ...           RF          Right Forward\n",
              "1   20801  Cristiano Ronaldo  ...           ST                Striker\n",
              "2  190871          Neymar Jr  ...           LW              Left Wing\n",
              "3  193080             De Gea  ...           GK             Goalkeeper\n",
              "4  192985       K. De Bruyne  ...          RCM  Right Center Midfield\n",
              "\n",
              "[5 rows x 23 columns]"
            ]
          },
          "metadata": {
            "tags": []
          },
          "execution_count": 77
        }
      ]
    },
    {
      "cell_type": "code",
      "metadata": {
        "colab_type": "code",
        "id": "AGYWwD_9C_17",
        "colab": {
          "base_uri": "https://localhost:8080/",
          "height": 35
        },
        "outputId": "2a3379bf-2a92-4c9c-d576-1f8349c91460"
      },
      "source": [
        "assert len(merged_df.columns) == 23, \"Error\"\n",
        "print(\"La union de ambos dataframes contiene \", len(merged_df.columns), \" columnas\")"
      ],
      "execution_count": 78,
      "outputs": [
        {
          "output_type": "stream",
          "text": [
            "La union de ambos dataframes contiene  23  columnas\n"
          ],
          "name": "stdout"
        }
      ]
    },
    {
      "cell_type": "markdown",
      "metadata": {
        "colab_type": "text",
        "id": "WEZT4Via5wL_"
      },
      "source": [
        "Usemos la nueva columna ```Full``` para actualizar la columna ```Position``` para que contenga el significado y abreviatura de la posición:\n",
        "\n",
        "```merged_df[\"Full\"] + \" (\" + merged_df[\"Position\"] +\")\"```"
      ]
    },
    {
      "cell_type": "code",
      "metadata": {
        "colab_type": "code",
        "id": "KVKr0Zry5wcb",
        "colab": {}
      },
      "source": [
        "merged_df[\"Position\"] = merged_df[\"Full\"] + \" \"+ merged_df[\"Abbreviation\"]"
      ],
      "execution_count": 79,
      "outputs": []
    },
    {
      "cell_type": "markdown",
      "metadata": {
        "colab_type": "text",
        "id": "QXnqnZK6GL9k"
      },
      "source": [
        "Muestra la columna actualizada:"
      ]
    },
    {
      "cell_type": "code",
      "metadata": {
        "colab_type": "code",
        "id": "MpKl_59uGLcI",
        "colab": {
          "base_uri": "https://localhost:8080/",
          "height": 87
        },
        "outputId": "c489ce8e-7aab-46e6-f53c-5af68d8ee142"
      },
      "source": [
        "merged_df[\"Position\"].head(3)"
      ],
      "execution_count": 80,
      "outputs": [
        {
          "output_type": "execute_result",
          "data": {
            "text/plain": [
              "0    Right Forward RF\n",
              "1          Striker ST\n",
              "2        Left Wing LW\n",
              "Name: Position, dtype: object"
            ]
          },
          "metadata": {
            "tags": []
          },
          "execution_count": 80
        }
      ]
    },
    {
      "cell_type": "markdown",
      "metadata": {
        "colab_type": "text",
        "id": "xmeIYYIa5nq5"
      },
      "source": [
        "Ahora, tenemos algunas columnas adicionales que ya no son útiles.\n",
        "\n",
        "Eliminemos las columnas ```Abbreviation``` y ```Full``` del dataframe usando ```drop()```:"
      ]
    },
    {
      "cell_type": "code",
      "metadata": {
        "colab_type": "code",
        "id": "_pAUfr7M5oU-",
        "colab": {}
      },
      "source": [
        "merged_df = merged_df.drop([\"Abbreviation\", \"Full\"], axis=1)"
      ],
      "execution_count": 81,
      "outputs": []
    },
    {
      "cell_type": "code",
      "metadata": {
        "colab_type": "code",
        "id": "K4Qqvacs68Ri",
        "colab": {
          "base_uri": "https://localhost:8080/",
          "height": 227
        },
        "outputId": "09052af3-4d5e-4831-f22b-c376af816343"
      },
      "source": [
        "merged_df.head(3)"
      ],
      "execution_count": 82,
      "outputs": [
        {
          "output_type": "execute_result",
          "data": {
            "text/html": [
              "<div>\n",
              "<style scoped>\n",
              "    .dataframe tbody tr th:only-of-type {\n",
              "        vertical-align: middle;\n",
              "    }\n",
              "\n",
              "    .dataframe tbody tr th {\n",
              "        vertical-align: top;\n",
              "    }\n",
              "\n",
              "    .dataframe thead th {\n",
              "        text-align: right;\n",
              "    }\n",
              "</style>\n",
              "<table border=\"1\" class=\"dataframe\">\n",
              "  <thead>\n",
              "    <tr style=\"text-align: right;\">\n",
              "      <th></th>\n",
              "      <th>ID</th>\n",
              "      <th>Name</th>\n",
              "      <th>Nationality</th>\n",
              "      <th>Club</th>\n",
              "      <th>Jersey Number</th>\n",
              "      <th>Value</th>\n",
              "      <th>Wage</th>\n",
              "      <th>Age</th>\n",
              "      <th>Height</th>\n",
              "      <th>Weight</th>\n",
              "      <th>Preferred Foot</th>\n",
              "      <th>Position</th>\n",
              "      <th>Overall</th>\n",
              "      <th>Potential</th>\n",
              "      <th>Shooting</th>\n",
              "      <th>Defense</th>\n",
              "      <th>Passing</th>\n",
              "      <th>Physical</th>\n",
              "      <th>Control</th>\n",
              "      <th>Mental</th>\n",
              "      <th>GoalKeeping</th>\n",
              "    </tr>\n",
              "  </thead>\n",
              "  <tbody>\n",
              "    <tr>\n",
              "      <th>0</th>\n",
              "      <td>158023</td>\n",
              "      <td>L. Messi</td>\n",
              "      <td>Argentina</td>\n",
              "      <td>FC Barcelona</td>\n",
              "      <td>10.0</td>\n",
              "      <td>110500000.0</td>\n",
              "      <td>565000.0</td>\n",
              "      <td>31</td>\n",
              "      <td>5'7</td>\n",
              "      <td>159lbs</td>\n",
              "      <td>Left</td>\n",
              "      <td>Right Forward RF</td>\n",
              "      <td>94</td>\n",
              "      <td>94</td>\n",
              "      <td>86.0</td>\n",
              "      <td>41.0</td>\n",
              "      <td>87.0</td>\n",
              "      <td>80.0</td>\n",
              "      <td>96.0</td>\n",
              "      <td>95.0</td>\n",
              "      <td>11.0</td>\n",
              "    </tr>\n",
              "    <tr>\n",
              "      <th>1</th>\n",
              "      <td>20801</td>\n",
              "      <td>Cristiano Ronaldo</td>\n",
              "      <td>Portugal</td>\n",
              "      <td>Juventus</td>\n",
              "      <td>7.0</td>\n",
              "      <td>77000000.0</td>\n",
              "      <td>405000.0</td>\n",
              "      <td>33</td>\n",
              "      <td>6'2</td>\n",
              "      <td>183lbs</td>\n",
              "      <td>Right</td>\n",
              "      <td>Striker ST</td>\n",
              "      <td>94</td>\n",
              "      <td>94</td>\n",
              "      <td>88.0</td>\n",
              "      <td>41.0</td>\n",
              "      <td>81.0</td>\n",
              "      <td>86.0</td>\n",
              "      <td>84.0</td>\n",
              "      <td>91.0</td>\n",
              "      <td>12.0</td>\n",
              "    </tr>\n",
              "    <tr>\n",
              "      <th>2</th>\n",
              "      <td>190871</td>\n",
              "      <td>Neymar Jr</td>\n",
              "      <td>Brazil</td>\n",
              "      <td>Paris Saint-Germain</td>\n",
              "      <td>10.0</td>\n",
              "      <td>118500000.0</td>\n",
              "      <td>290000.0</td>\n",
              "      <td>26</td>\n",
              "      <td>5'9</td>\n",
              "      <td>150lbs</td>\n",
              "      <td>Right</td>\n",
              "      <td>Left Wing LW</td>\n",
              "      <td>92</td>\n",
              "      <td>93</td>\n",
              "      <td>81.0</td>\n",
              "      <td>42.0</td>\n",
              "      <td>80.0</td>\n",
              "      <td>79.0</td>\n",
              "      <td>92.0</td>\n",
              "      <td>92.0</td>\n",
              "      <td>12.0</td>\n",
              "    </tr>\n",
              "  </tbody>\n",
              "</table>\n",
              "</div>"
            ],
            "text/plain": [
              "       ID               Name Nationality  ... Control  Mental  GoalKeeping\n",
              "0  158023           L. Messi   Argentina  ...    96.0    95.0         11.0\n",
              "1   20801  Cristiano Ronaldo    Portugal  ...    84.0    91.0         12.0\n",
              "2  190871          Neymar Jr      Brazil  ...    92.0    92.0         12.0\n",
              "\n",
              "[3 rows x 21 columns]"
            ]
          },
          "metadata": {
            "tags": []
          },
          "execution_count": 82
        }
      ]
    },
    {
      "cell_type": "code",
      "metadata": {
        "colab_type": "code",
        "id": "YII9iv1PG3Ux",
        "colab": {}
      },
      "source": [
        "assert len(merged_df.columns) == 21, \"Error\""
      ],
      "execution_count": 83,
      "outputs": []
    },
    {
      "cell_type": "markdown",
      "metadata": {
        "colab_type": "text",
        "id": "zAUeeSXvxU6g"
      },
      "source": [
        "Asignemos al dataframe original ```fifa_df``` el nuevo dataframe con el tratamiento de datos ya realizado:"
      ]
    },
    {
      "cell_type": "code",
      "metadata": {
        "colab_type": "code",
        "id": "mFz5iU9SxScb",
        "colab": {
          "base_uri": "https://localhost:8080/",
          "height": 323
        },
        "outputId": "86ddc9f8-4f29-4b0e-9347-736eff8a0214"
      },
      "source": [
        "fifa_df = merged_df\n",
        "fifa_df.head()"
      ],
      "execution_count": 84,
      "outputs": [
        {
          "output_type": "execute_result",
          "data": {
            "text/html": [
              "<div>\n",
              "<style scoped>\n",
              "    .dataframe tbody tr th:only-of-type {\n",
              "        vertical-align: middle;\n",
              "    }\n",
              "\n",
              "    .dataframe tbody tr th {\n",
              "        vertical-align: top;\n",
              "    }\n",
              "\n",
              "    .dataframe thead th {\n",
              "        text-align: right;\n",
              "    }\n",
              "</style>\n",
              "<table border=\"1\" class=\"dataframe\">\n",
              "  <thead>\n",
              "    <tr style=\"text-align: right;\">\n",
              "      <th></th>\n",
              "      <th>ID</th>\n",
              "      <th>Name</th>\n",
              "      <th>Nationality</th>\n",
              "      <th>Club</th>\n",
              "      <th>Jersey Number</th>\n",
              "      <th>Value</th>\n",
              "      <th>Wage</th>\n",
              "      <th>Age</th>\n",
              "      <th>Height</th>\n",
              "      <th>Weight</th>\n",
              "      <th>Preferred Foot</th>\n",
              "      <th>Position</th>\n",
              "      <th>Overall</th>\n",
              "      <th>Potential</th>\n",
              "      <th>Shooting</th>\n",
              "      <th>Defense</th>\n",
              "      <th>Passing</th>\n",
              "      <th>Physical</th>\n",
              "      <th>Control</th>\n",
              "      <th>Mental</th>\n",
              "      <th>GoalKeeping</th>\n",
              "    </tr>\n",
              "  </thead>\n",
              "  <tbody>\n",
              "    <tr>\n",
              "      <th>0</th>\n",
              "      <td>158023</td>\n",
              "      <td>L. Messi</td>\n",
              "      <td>Argentina</td>\n",
              "      <td>FC Barcelona</td>\n",
              "      <td>10.0</td>\n",
              "      <td>110500000.0</td>\n",
              "      <td>565000.0</td>\n",
              "      <td>31</td>\n",
              "      <td>5'7</td>\n",
              "      <td>159lbs</td>\n",
              "      <td>Left</td>\n",
              "      <td>Right Forward RF</td>\n",
              "      <td>94</td>\n",
              "      <td>94</td>\n",
              "      <td>86.0</td>\n",
              "      <td>41.0</td>\n",
              "      <td>87.0</td>\n",
              "      <td>80.0</td>\n",
              "      <td>96.0</td>\n",
              "      <td>95.0</td>\n",
              "      <td>11.0</td>\n",
              "    </tr>\n",
              "    <tr>\n",
              "      <th>1</th>\n",
              "      <td>20801</td>\n",
              "      <td>Cristiano Ronaldo</td>\n",
              "      <td>Portugal</td>\n",
              "      <td>Juventus</td>\n",
              "      <td>7.0</td>\n",
              "      <td>77000000.0</td>\n",
              "      <td>405000.0</td>\n",
              "      <td>33</td>\n",
              "      <td>6'2</td>\n",
              "      <td>183lbs</td>\n",
              "      <td>Right</td>\n",
              "      <td>Striker ST</td>\n",
              "      <td>94</td>\n",
              "      <td>94</td>\n",
              "      <td>88.0</td>\n",
              "      <td>41.0</td>\n",
              "      <td>81.0</td>\n",
              "      <td>86.0</td>\n",
              "      <td>84.0</td>\n",
              "      <td>91.0</td>\n",
              "      <td>12.0</td>\n",
              "    </tr>\n",
              "    <tr>\n",
              "      <th>2</th>\n",
              "      <td>190871</td>\n",
              "      <td>Neymar Jr</td>\n",
              "      <td>Brazil</td>\n",
              "      <td>Paris Saint-Germain</td>\n",
              "      <td>10.0</td>\n",
              "      <td>118500000.0</td>\n",
              "      <td>290000.0</td>\n",
              "      <td>26</td>\n",
              "      <td>5'9</td>\n",
              "      <td>150lbs</td>\n",
              "      <td>Right</td>\n",
              "      <td>Left Wing LW</td>\n",
              "      <td>92</td>\n",
              "      <td>93</td>\n",
              "      <td>81.0</td>\n",
              "      <td>42.0</td>\n",
              "      <td>80.0</td>\n",
              "      <td>79.0</td>\n",
              "      <td>92.0</td>\n",
              "      <td>92.0</td>\n",
              "      <td>12.0</td>\n",
              "    </tr>\n",
              "    <tr>\n",
              "      <th>3</th>\n",
              "      <td>193080</td>\n",
              "      <td>De Gea</td>\n",
              "      <td>Spain</td>\n",
              "      <td>Manchester United</td>\n",
              "      <td>1.0</td>\n",
              "      <td>72000000.0</td>\n",
              "      <td>260000.0</td>\n",
              "      <td>27</td>\n",
              "      <td>6'4</td>\n",
              "      <td>168lbs</td>\n",
              "      <td>Right</td>\n",
              "      <td>Goalkeeper GK</td>\n",
              "      <td>91</td>\n",
              "      <td>93</td>\n",
              "      <td>21.0</td>\n",
              "      <td>18.0</td>\n",
              "      <td>39.0</td>\n",
              "      <td>56.0</td>\n",
              "      <td>34.0</td>\n",
              "      <td>75.0</td>\n",
              "      <td>89.0</td>\n",
              "    </tr>\n",
              "    <tr>\n",
              "      <th>4</th>\n",
              "      <td>192985</td>\n",
              "      <td>K. De Bruyne</td>\n",
              "      <td>Belgium</td>\n",
              "      <td>Manchester City</td>\n",
              "      <td>7.0</td>\n",
              "      <td>102000000.0</td>\n",
              "      <td>355000.0</td>\n",
              "      <td>27</td>\n",
              "      <td>5'11</td>\n",
              "      <td>154lbs</td>\n",
              "      <td>Right</td>\n",
              "      <td>Right Center Midfield RCM</td>\n",
              "      <td>91</td>\n",
              "      <td>92</td>\n",
              "      <td>81.0</td>\n",
              "      <td>65.0</td>\n",
              "      <td>92.0</td>\n",
              "      <td>77.0</td>\n",
              "      <td>85.0</td>\n",
              "      <td>91.0</td>\n",
              "      <td>11.0</td>\n",
              "    </tr>\n",
              "  </tbody>\n",
              "</table>\n",
              "</div>"
            ],
            "text/plain": [
              "       ID               Name Nationality  ... Control  Mental  GoalKeeping\n",
              "0  158023           L. Messi   Argentina  ...    96.0    95.0         11.0\n",
              "1   20801  Cristiano Ronaldo    Portugal  ...    84.0    91.0         12.0\n",
              "2  190871          Neymar Jr      Brazil  ...    92.0    92.0         12.0\n",
              "3  193080             De Gea       Spain  ...    34.0    75.0         89.0\n",
              "4  192985       K. De Bruyne     Belgium  ...    85.0    91.0         11.0\n",
              "\n",
              "[5 rows x 21 columns]"
            ]
          },
          "metadata": {
            "tags": []
          },
          "execution_count": 84
        }
      ]
    },
    {
      "cell_type": "markdown",
      "metadata": {
        "colab_type": "text",
        "id": "11welP4cjgmM"
      },
      "source": [
        "## Análisis exploratorio\n",
        "\n",
        "En esta sección, utilizarás distintos métodos de los dataframes de pandas para generar un análisis exploratorio. En un análisis exploratorio, se busca explorar, resumir y entender los datos."
      ]
    },
    {
      "cell_type": "markdown",
      "metadata": {
        "colab_type": "text",
        "id": "KDx_7ASLlnL7"
      },
      "source": [
        "### Jugadores con el mayor valor comercial y jugadores mejores pagados"
      ]
    },
    {
      "cell_type": "markdown",
      "metadata": {
        "colab_type": "text",
        "id": "Ms3vFmAo15eW"
      },
      "source": [
        "Muestra el **Top 3** de jugadores con mayor valor (```Value```) en el mercado."
      ]
    },
    {
      "cell_type": "code",
      "metadata": {
        "colab_type": "code",
        "id": "XJAgwUc2J9y8",
        "colab": {
          "base_uri": "https://localhost:8080/",
          "height": 245
        },
        "outputId": "572f164f-9f37-44ce-a9bd-2d3a882988e6"
      },
      "source": [
        "fifa_df.nlargest(3, \"Value\", keep='first')"
      ],
      "execution_count": 85,
      "outputs": [
        {
          "output_type": "execute_result",
          "data": {
            "text/html": [
              "<div>\n",
              "<style scoped>\n",
              "    .dataframe tbody tr th:only-of-type {\n",
              "        vertical-align: middle;\n",
              "    }\n",
              "\n",
              "    .dataframe tbody tr th {\n",
              "        vertical-align: top;\n",
              "    }\n",
              "\n",
              "    .dataframe thead th {\n",
              "        text-align: right;\n",
              "    }\n",
              "</style>\n",
              "<table border=\"1\" class=\"dataframe\">\n",
              "  <thead>\n",
              "    <tr style=\"text-align: right;\">\n",
              "      <th></th>\n",
              "      <th>ID</th>\n",
              "      <th>Name</th>\n",
              "      <th>Nationality</th>\n",
              "      <th>Club</th>\n",
              "      <th>Jersey Number</th>\n",
              "      <th>Value</th>\n",
              "      <th>Wage</th>\n",
              "      <th>Age</th>\n",
              "      <th>Height</th>\n",
              "      <th>Weight</th>\n",
              "      <th>Preferred Foot</th>\n",
              "      <th>Position</th>\n",
              "      <th>Overall</th>\n",
              "      <th>Potential</th>\n",
              "      <th>Shooting</th>\n",
              "      <th>Defense</th>\n",
              "      <th>Passing</th>\n",
              "      <th>Physical</th>\n",
              "      <th>Control</th>\n",
              "      <th>Mental</th>\n",
              "      <th>GoalKeeping</th>\n",
              "    </tr>\n",
              "  </thead>\n",
              "  <tbody>\n",
              "    <tr>\n",
              "      <th>2</th>\n",
              "      <td>190871</td>\n",
              "      <td>Neymar Jr</td>\n",
              "      <td>Brazil</td>\n",
              "      <td>Paris Saint-Germain</td>\n",
              "      <td>10.0</td>\n",
              "      <td>118500000.0</td>\n",
              "      <td>290000.0</td>\n",
              "      <td>26</td>\n",
              "      <td>5'9</td>\n",
              "      <td>150lbs</td>\n",
              "      <td>Right</td>\n",
              "      <td>Left Wing LW</td>\n",
              "      <td>92</td>\n",
              "      <td>93</td>\n",
              "      <td>81.0</td>\n",
              "      <td>42.0</td>\n",
              "      <td>80.0</td>\n",
              "      <td>79.0</td>\n",
              "      <td>92.0</td>\n",
              "      <td>92.0</td>\n",
              "      <td>12.0</td>\n",
              "    </tr>\n",
              "    <tr>\n",
              "      <th>0</th>\n",
              "      <td>158023</td>\n",
              "      <td>L. Messi</td>\n",
              "      <td>Argentina</td>\n",
              "      <td>FC Barcelona</td>\n",
              "      <td>10.0</td>\n",
              "      <td>110500000.0</td>\n",
              "      <td>565000.0</td>\n",
              "      <td>31</td>\n",
              "      <td>5'7</td>\n",
              "      <td>159lbs</td>\n",
              "      <td>Left</td>\n",
              "      <td>Right Forward RF</td>\n",
              "      <td>94</td>\n",
              "      <td>94</td>\n",
              "      <td>86.0</td>\n",
              "      <td>41.0</td>\n",
              "      <td>87.0</td>\n",
              "      <td>80.0</td>\n",
              "      <td>96.0</td>\n",
              "      <td>95.0</td>\n",
              "      <td>11.0</td>\n",
              "    </tr>\n",
              "    <tr>\n",
              "      <th>4</th>\n",
              "      <td>192985</td>\n",
              "      <td>K. De Bruyne</td>\n",
              "      <td>Belgium</td>\n",
              "      <td>Manchester City</td>\n",
              "      <td>7.0</td>\n",
              "      <td>102000000.0</td>\n",
              "      <td>355000.0</td>\n",
              "      <td>27</td>\n",
              "      <td>5'11</td>\n",
              "      <td>154lbs</td>\n",
              "      <td>Right</td>\n",
              "      <td>Right Center Midfield RCM</td>\n",
              "      <td>91</td>\n",
              "      <td>92</td>\n",
              "      <td>81.0</td>\n",
              "      <td>65.0</td>\n",
              "      <td>92.0</td>\n",
              "      <td>77.0</td>\n",
              "      <td>85.0</td>\n",
              "      <td>91.0</td>\n",
              "      <td>11.0</td>\n",
              "    </tr>\n",
              "  </tbody>\n",
              "</table>\n",
              "</div>"
            ],
            "text/plain": [
              "       ID          Name Nationality  ... Control  Mental  GoalKeeping\n",
              "2  190871     Neymar Jr      Brazil  ...    92.0    92.0         12.0\n",
              "0  158023      L. Messi   Argentina  ...    96.0    95.0         11.0\n",
              "4  192985  K. De Bruyne     Belgium  ...    85.0    91.0         11.0\n",
              "\n",
              "[3 rows x 21 columns]"
            ]
          },
          "metadata": {
            "tags": []
          },
          "execution_count": 85
        }
      ]
    },
    {
      "cell_type": "markdown",
      "metadata": {
        "colab_type": "text",
        "id": "BWtWBTdz1yix"
      },
      "source": [
        "Muestra el **Top 3** de jugadores mejores pagados en el mundo (Salarios más altos, ```Wage```)."
      ]
    },
    {
      "cell_type": "code",
      "metadata": {
        "colab_type": "code",
        "id": "1yaixbRm1lgg",
        "colab": {
          "base_uri": "https://localhost:8080/",
          "height": 210
        },
        "outputId": "ae684f2c-1328-44e0-f75f-0998bdea78bf"
      },
      "source": [
        "fifa_df.nlargest(3, \"Wage\", keep='first')"
      ],
      "execution_count": 86,
      "outputs": [
        {
          "output_type": "execute_result",
          "data": {
            "text/html": [
              "<div>\n",
              "<style scoped>\n",
              "    .dataframe tbody tr th:only-of-type {\n",
              "        vertical-align: middle;\n",
              "    }\n",
              "\n",
              "    .dataframe tbody tr th {\n",
              "        vertical-align: top;\n",
              "    }\n",
              "\n",
              "    .dataframe thead th {\n",
              "        text-align: right;\n",
              "    }\n",
              "</style>\n",
              "<table border=\"1\" class=\"dataframe\">\n",
              "  <thead>\n",
              "    <tr style=\"text-align: right;\">\n",
              "      <th></th>\n",
              "      <th>ID</th>\n",
              "      <th>Name</th>\n",
              "      <th>Nationality</th>\n",
              "      <th>Club</th>\n",
              "      <th>Jersey Number</th>\n",
              "      <th>Value</th>\n",
              "      <th>Wage</th>\n",
              "      <th>Age</th>\n",
              "      <th>Height</th>\n",
              "      <th>Weight</th>\n",
              "      <th>Preferred Foot</th>\n",
              "      <th>Position</th>\n",
              "      <th>Overall</th>\n",
              "      <th>Potential</th>\n",
              "      <th>Shooting</th>\n",
              "      <th>Defense</th>\n",
              "      <th>Passing</th>\n",
              "      <th>Physical</th>\n",
              "      <th>Control</th>\n",
              "      <th>Mental</th>\n",
              "      <th>GoalKeeping</th>\n",
              "    </tr>\n",
              "  </thead>\n",
              "  <tbody>\n",
              "    <tr>\n",
              "      <th>0</th>\n",
              "      <td>158023</td>\n",
              "      <td>L. Messi</td>\n",
              "      <td>Argentina</td>\n",
              "      <td>FC Barcelona</td>\n",
              "      <td>10.0</td>\n",
              "      <td>110500000.0</td>\n",
              "      <td>565000.0</td>\n",
              "      <td>31</td>\n",
              "      <td>5'7</td>\n",
              "      <td>159lbs</td>\n",
              "      <td>Left</td>\n",
              "      <td>Right Forward RF</td>\n",
              "      <td>94</td>\n",
              "      <td>94</td>\n",
              "      <td>86.0</td>\n",
              "      <td>41.0</td>\n",
              "      <td>87.0</td>\n",
              "      <td>80.0</td>\n",
              "      <td>96.0</td>\n",
              "      <td>95.0</td>\n",
              "      <td>11.0</td>\n",
              "    </tr>\n",
              "    <tr>\n",
              "      <th>7</th>\n",
              "      <td>176580</td>\n",
              "      <td>L. Suárez</td>\n",
              "      <td>Uruguay</td>\n",
              "      <td>FC Barcelona</td>\n",
              "      <td>9.0</td>\n",
              "      <td>80000000.0</td>\n",
              "      <td>455000.0</td>\n",
              "      <td>31</td>\n",
              "      <td>6'0</td>\n",
              "      <td>190lbs</td>\n",
              "      <td>Right</td>\n",
              "      <td>Right Side RS</td>\n",
              "      <td>91</td>\n",
              "      <td>91</td>\n",
              "      <td>86.0</td>\n",
              "      <td>56.0</td>\n",
              "      <td>74.0</td>\n",
              "      <td>81.0</td>\n",
              "      <td>87.0</td>\n",
              "      <td>87.0</td>\n",
              "      <td>31.0</td>\n",
              "    </tr>\n",
              "    <tr>\n",
              "      <th>6</th>\n",
              "      <td>177003</td>\n",
              "      <td>L. Modrić</td>\n",
              "      <td>Croatia</td>\n",
              "      <td>Real Madrid</td>\n",
              "      <td>10.0</td>\n",
              "      <td>67000000.0</td>\n",
              "      <td>420000.0</td>\n",
              "      <td>32</td>\n",
              "      <td>5'8</td>\n",
              "      <td>146lbs</td>\n",
              "      <td>Right</td>\n",
              "      <td>Right Center Midfield RCM</td>\n",
              "      <td>91</td>\n",
              "      <td>91</td>\n",
              "      <td>76.0</td>\n",
              "      <td>74.0</td>\n",
              "      <td>89.0</td>\n",
              "      <td>79.0</td>\n",
              "      <td>92.0</td>\n",
              "      <td>89.0</td>\n",
              "      <td>10.0</td>\n",
              "    </tr>\n",
              "  </tbody>\n",
              "</table>\n",
              "</div>"
            ],
            "text/plain": [
              "       ID       Name Nationality  ... Control  Mental  GoalKeeping\n",
              "0  158023   L. Messi   Argentina  ...    96.0    95.0         11.0\n",
              "7  176580  L. Suárez     Uruguay  ...    87.0    87.0         31.0\n",
              "6  177003  L. Modrić     Croatia  ...    92.0    89.0         10.0\n",
              "\n",
              "[3 rows x 21 columns]"
            ]
          },
          "metadata": {
            "tags": []
          },
          "execution_count": 86
        }
      ]
    },
    {
      "cell_type": "markdown",
      "metadata": {
        "colab_type": "text",
        "id": "cpSEn-FJjwtT"
      },
      "source": [
        "### Potencial por alcanzar\n",
        "\n",
        "Utiliza operaciones Crea una nueva columna que  muestre el potencial por alcanzar ```Potential left``` de cada jugador en el conjunto de datos. El potencial por alcanzar puede ser calculado mediante ```Potential - Overall```."
      ]
    },
    {
      "cell_type": "code",
      "metadata": {
        "colab_type": "code",
        "id": "1fD4LDMJj14v",
        "colab": {
          "base_uri": "https://localhost:8080/",
          "height": 378
        },
        "outputId": "573be4b9-6574-4d77-d1e4-0293c5972cd6"
      },
      "source": [
        "fifa_df[\"Potential left\"] = fifa_df.Potential-fifa_df.Overall\n",
        "fifa_df.head()"
      ],
      "execution_count": 87,
      "outputs": [
        {
          "output_type": "execute_result",
          "data": {
            "text/html": [
              "<div>\n",
              "<style scoped>\n",
              "    .dataframe tbody tr th:only-of-type {\n",
              "        vertical-align: middle;\n",
              "    }\n",
              "\n",
              "    .dataframe tbody tr th {\n",
              "        vertical-align: top;\n",
              "    }\n",
              "\n",
              "    .dataframe thead th {\n",
              "        text-align: right;\n",
              "    }\n",
              "</style>\n",
              "<table border=\"1\" class=\"dataframe\">\n",
              "  <thead>\n",
              "    <tr style=\"text-align: right;\">\n",
              "      <th></th>\n",
              "      <th>ID</th>\n",
              "      <th>Name</th>\n",
              "      <th>Nationality</th>\n",
              "      <th>Club</th>\n",
              "      <th>Jersey Number</th>\n",
              "      <th>Value</th>\n",
              "      <th>Wage</th>\n",
              "      <th>Age</th>\n",
              "      <th>Height</th>\n",
              "      <th>Weight</th>\n",
              "      <th>Preferred Foot</th>\n",
              "      <th>Position</th>\n",
              "      <th>Overall</th>\n",
              "      <th>Potential</th>\n",
              "      <th>Shooting</th>\n",
              "      <th>Defense</th>\n",
              "      <th>Passing</th>\n",
              "      <th>Physical</th>\n",
              "      <th>Control</th>\n",
              "      <th>Mental</th>\n",
              "      <th>GoalKeeping</th>\n",
              "      <th>Potential left</th>\n",
              "    </tr>\n",
              "  </thead>\n",
              "  <tbody>\n",
              "    <tr>\n",
              "      <th>0</th>\n",
              "      <td>158023</td>\n",
              "      <td>L. Messi</td>\n",
              "      <td>Argentina</td>\n",
              "      <td>FC Barcelona</td>\n",
              "      <td>10.0</td>\n",
              "      <td>110500000.0</td>\n",
              "      <td>565000.0</td>\n",
              "      <td>31</td>\n",
              "      <td>5'7</td>\n",
              "      <td>159lbs</td>\n",
              "      <td>Left</td>\n",
              "      <td>Right Forward RF</td>\n",
              "      <td>94</td>\n",
              "      <td>94</td>\n",
              "      <td>86.0</td>\n",
              "      <td>41.0</td>\n",
              "      <td>87.0</td>\n",
              "      <td>80.0</td>\n",
              "      <td>96.0</td>\n",
              "      <td>95.0</td>\n",
              "      <td>11.0</td>\n",
              "      <td>0</td>\n",
              "    </tr>\n",
              "    <tr>\n",
              "      <th>1</th>\n",
              "      <td>20801</td>\n",
              "      <td>Cristiano Ronaldo</td>\n",
              "      <td>Portugal</td>\n",
              "      <td>Juventus</td>\n",
              "      <td>7.0</td>\n",
              "      <td>77000000.0</td>\n",
              "      <td>405000.0</td>\n",
              "      <td>33</td>\n",
              "      <td>6'2</td>\n",
              "      <td>183lbs</td>\n",
              "      <td>Right</td>\n",
              "      <td>Striker ST</td>\n",
              "      <td>94</td>\n",
              "      <td>94</td>\n",
              "      <td>88.0</td>\n",
              "      <td>41.0</td>\n",
              "      <td>81.0</td>\n",
              "      <td>86.0</td>\n",
              "      <td>84.0</td>\n",
              "      <td>91.0</td>\n",
              "      <td>12.0</td>\n",
              "      <td>0</td>\n",
              "    </tr>\n",
              "    <tr>\n",
              "      <th>2</th>\n",
              "      <td>190871</td>\n",
              "      <td>Neymar Jr</td>\n",
              "      <td>Brazil</td>\n",
              "      <td>Paris Saint-Germain</td>\n",
              "      <td>10.0</td>\n",
              "      <td>118500000.0</td>\n",
              "      <td>290000.0</td>\n",
              "      <td>26</td>\n",
              "      <td>5'9</td>\n",
              "      <td>150lbs</td>\n",
              "      <td>Right</td>\n",
              "      <td>Left Wing LW</td>\n",
              "      <td>92</td>\n",
              "      <td>93</td>\n",
              "      <td>81.0</td>\n",
              "      <td>42.0</td>\n",
              "      <td>80.0</td>\n",
              "      <td>79.0</td>\n",
              "      <td>92.0</td>\n",
              "      <td>92.0</td>\n",
              "      <td>12.0</td>\n",
              "      <td>1</td>\n",
              "    </tr>\n",
              "    <tr>\n",
              "      <th>3</th>\n",
              "      <td>193080</td>\n",
              "      <td>De Gea</td>\n",
              "      <td>Spain</td>\n",
              "      <td>Manchester United</td>\n",
              "      <td>1.0</td>\n",
              "      <td>72000000.0</td>\n",
              "      <td>260000.0</td>\n",
              "      <td>27</td>\n",
              "      <td>6'4</td>\n",
              "      <td>168lbs</td>\n",
              "      <td>Right</td>\n",
              "      <td>Goalkeeper GK</td>\n",
              "      <td>91</td>\n",
              "      <td>93</td>\n",
              "      <td>21.0</td>\n",
              "      <td>18.0</td>\n",
              "      <td>39.0</td>\n",
              "      <td>56.0</td>\n",
              "      <td>34.0</td>\n",
              "      <td>75.0</td>\n",
              "      <td>89.0</td>\n",
              "      <td>2</td>\n",
              "    </tr>\n",
              "    <tr>\n",
              "      <th>4</th>\n",
              "      <td>192985</td>\n",
              "      <td>K. De Bruyne</td>\n",
              "      <td>Belgium</td>\n",
              "      <td>Manchester City</td>\n",
              "      <td>7.0</td>\n",
              "      <td>102000000.0</td>\n",
              "      <td>355000.0</td>\n",
              "      <td>27</td>\n",
              "      <td>5'11</td>\n",
              "      <td>154lbs</td>\n",
              "      <td>Right</td>\n",
              "      <td>Right Center Midfield RCM</td>\n",
              "      <td>91</td>\n",
              "      <td>92</td>\n",
              "      <td>81.0</td>\n",
              "      <td>65.0</td>\n",
              "      <td>92.0</td>\n",
              "      <td>77.0</td>\n",
              "      <td>85.0</td>\n",
              "      <td>91.0</td>\n",
              "      <td>11.0</td>\n",
              "      <td>1</td>\n",
              "    </tr>\n",
              "  </tbody>\n",
              "</table>\n",
              "</div>"
            ],
            "text/plain": [
              "       ID               Name Nationality  ... Mental  GoalKeeping  Potential left\n",
              "0  158023           L. Messi   Argentina  ...   95.0         11.0               0\n",
              "1   20801  Cristiano Ronaldo    Portugal  ...   91.0         12.0               0\n",
              "2  190871          Neymar Jr      Brazil  ...   92.0         12.0               1\n",
              "3  193080             De Gea       Spain  ...   75.0         89.0               2\n",
              "4  192985       K. De Bruyne     Belgium  ...   91.0         11.0               1\n",
              "\n",
              "[5 rows x 22 columns]"
            ]
          },
          "metadata": {
            "tags": []
          },
          "execution_count": 87
        }
      ]
    },
    {
      "cell_type": "markdown",
      "metadata": {
        "colab_type": "text",
        "id": "NwYgtvlTmKnq"
      },
      "source": [
        "### Jóvenes promesa\n",
        "\n",
        "Utiliza las funciones de Pandas para encontrar el **top 5** de jugadores \"promesa\" menores de 22 años. Ordena ascendentemente el dataframe según el potencial (```Potential```), potencial por alcanzar (```Potential left```) y su nivel (```Overall ```) actual."
      ]
    },
    {
      "cell_type": "code",
      "metadata": {
        "colab_type": "code",
        "id": "5IFX49Jern6K",
        "colab": {
          "base_uri": "https://localhost:8080/",
          "height": 413
        },
        "outputId": "95b4eea8-f74f-4b71-f257-9e5fcef6d77f"
      },
      "source": [
        "promesa=fifa_df[fifa_df.Age < 22]\n",
        "promesa = promesa.nlargest(5, \"Overall\", keep='first')\n",
        "promesa.sort_values([\"Potential\", \"Potential left\", \"Overall\"])"
      ],
      "execution_count": 88,
      "outputs": [
        {
          "output_type": "execute_result",
          "data": {
            "text/html": [
              "<div>\n",
              "<style scoped>\n",
              "    .dataframe tbody tr th:only-of-type {\n",
              "        vertical-align: middle;\n",
              "    }\n",
              "\n",
              "    .dataframe tbody tr th {\n",
              "        vertical-align: top;\n",
              "    }\n",
              "\n",
              "    .dataframe thead th {\n",
              "        text-align: right;\n",
              "    }\n",
              "</style>\n",
              "<table border=\"1\" class=\"dataframe\">\n",
              "  <thead>\n",
              "    <tr style=\"text-align: right;\">\n",
              "      <th></th>\n",
              "      <th>ID</th>\n",
              "      <th>Name</th>\n",
              "      <th>Nationality</th>\n",
              "      <th>Club</th>\n",
              "      <th>Jersey Number</th>\n",
              "      <th>Value</th>\n",
              "      <th>Wage</th>\n",
              "      <th>Age</th>\n",
              "      <th>Height</th>\n",
              "      <th>Weight</th>\n",
              "      <th>Preferred Foot</th>\n",
              "      <th>Position</th>\n",
              "      <th>Overall</th>\n",
              "      <th>Potential</th>\n",
              "      <th>Shooting</th>\n",
              "      <th>Defense</th>\n",
              "      <th>Passing</th>\n",
              "      <th>Physical</th>\n",
              "      <th>Control</th>\n",
              "      <th>Mental</th>\n",
              "      <th>GoalKeeping</th>\n",
              "      <th>Potential left</th>\n",
              "    </tr>\n",
              "  </thead>\n",
              "  <tbody>\n",
              "    <tr>\n",
              "      <th>228</th>\n",
              "      <td>230658</td>\n",
              "      <td>Arthur</td>\n",
              "      <td>Brazil</td>\n",
              "      <td>FC Barcelona</td>\n",
              "      <td>8.0</td>\n",
              "      <td>32500000.0</td>\n",
              "      <td>125000.0</td>\n",
              "      <td>21</td>\n",
              "      <td>5'7</td>\n",
              "      <td>161lbs</td>\n",
              "      <td>Right</td>\n",
              "      <td>Left Center Midfield LCM</td>\n",
              "      <td>82</td>\n",
              "      <td>90</td>\n",
              "      <td>68.0</td>\n",
              "      <td>73.0</td>\n",
              "      <td>78.0</td>\n",
              "      <td>75.0</td>\n",
              "      <td>84.0</td>\n",
              "      <td>82.0</td>\n",
              "      <td>11.0</td>\n",
              "      <td>8</td>\n",
              "    </tr>\n",
              "    <tr>\n",
              "      <th>226</th>\n",
              "      <td>235243</td>\n",
              "      <td>M. de Ligt</td>\n",
              "      <td>Netherlands</td>\n",
              "      <td>Ajax</td>\n",
              "      <td>3.0</td>\n",
              "      <td>27000000.0</td>\n",
              "      <td>11000.0</td>\n",
              "      <td>18</td>\n",
              "      <td>6'2</td>\n",
              "      <td>196lbs</td>\n",
              "      <td>Right</td>\n",
              "      <td>Right Center Back RCB</td>\n",
              "      <td>82</td>\n",
              "      <td>91</td>\n",
              "      <td>58.0</td>\n",
              "      <td>74.0</td>\n",
              "      <td>68.0</td>\n",
              "      <td>70.0</td>\n",
              "      <td>66.0</td>\n",
              "      <td>72.0</td>\n",
              "      <td>11.0</td>\n",
              "      <td>9</td>\n",
              "    </tr>\n",
              "    <tr>\n",
              "      <th>155</th>\n",
              "      <td>231443</td>\n",
              "      <td>O. Dembélé</td>\n",
              "      <td>France</td>\n",
              "      <td>FC Barcelona</td>\n",
              "      <td>11.0</td>\n",
              "      <td>40000000.0</td>\n",
              "      <td>155000.0</td>\n",
              "      <td>21</td>\n",
              "      <td>5'10</td>\n",
              "      <td>148lbs</td>\n",
              "      <td>Left</td>\n",
              "      <td>Right Wing RW</td>\n",
              "      <td>83</td>\n",
              "      <td>92</td>\n",
              "      <td>71.0</td>\n",
              "      <td>44.0</td>\n",
              "      <td>75.0</td>\n",
              "      <td>77.0</td>\n",
              "      <td>86.0</td>\n",
              "      <td>80.0</td>\n",
              "      <td>10.0</td>\n",
              "      <td>9</td>\n",
              "    </tr>\n",
              "    <tr>\n",
              "      <th>156</th>\n",
              "      <td>230666</td>\n",
              "      <td>Gabriel Jesus</td>\n",
              "      <td>Brazil</td>\n",
              "      <td>Manchester City</td>\n",
              "      <td>33.0</td>\n",
              "      <td>41000000.0</td>\n",
              "      <td>130000.0</td>\n",
              "      <td>21</td>\n",
              "      <td>5'9</td>\n",
              "      <td>161lbs</td>\n",
              "      <td>Right</td>\n",
              "      <td>Striker ST</td>\n",
              "      <td>83</td>\n",
              "      <td>92</td>\n",
              "      <td>74.0</td>\n",
              "      <td>43.0</td>\n",
              "      <td>69.0</td>\n",
              "      <td>83.0</td>\n",
              "      <td>87.0</td>\n",
              "      <td>82.0</td>\n",
              "      <td>10.0</td>\n",
              "      <td>9</td>\n",
              "    </tr>\n",
              "    <tr>\n",
              "      <th>25</th>\n",
              "      <td>231747</td>\n",
              "      <td>K. Mbappé</td>\n",
              "      <td>France</td>\n",
              "      <td>Paris Saint-Germain</td>\n",
              "      <td>10.0</td>\n",
              "      <td>81000000.0</td>\n",
              "      <td>100000.0</td>\n",
              "      <td>19</td>\n",
              "      <td>5'10</td>\n",
              "      <td>161lbs</td>\n",
              "      <td>Right</td>\n",
              "      <td>Right Midfielder RM</td>\n",
              "      <td>88</td>\n",
              "      <td>95</td>\n",
              "      <td>76.0</td>\n",
              "      <td>45.0</td>\n",
              "      <td>77.0</td>\n",
              "      <td>85.0</td>\n",
              "      <td>88.0</td>\n",
              "      <td>85.0</td>\n",
              "      <td>8.0</td>\n",
              "      <td>7</td>\n",
              "    </tr>\n",
              "  </tbody>\n",
              "</table>\n",
              "</div>"
            ],
            "text/plain": [
              "         ID           Name  Nationality  ... Mental  GoalKeeping  Potential left\n",
              "228  230658         Arthur       Brazil  ...   82.0         11.0               8\n",
              "226  235243     M. de Ligt  Netherlands  ...   72.0         11.0               9\n",
              "155  231443     O. Dembélé       France  ...   80.0         10.0               9\n",
              "156  230666  Gabriel Jesus       Brazil  ...   82.0         10.0               9\n",
              "25   231747      K. Mbappé       France  ...   85.0          8.0               7\n",
              "\n",
              "[5 rows x 22 columns]"
            ]
          },
          "metadata": {
            "tags": []
          },
          "execution_count": 88
        }
      ]
    },
    {
      "cell_type": "markdown",
      "metadata": {
        "colab_type": "text",
        "id": "vrWYwyCwKfV2"
      },
      "source": [
        "### Mejor defensa en el mundo\n",
        "\n",
        "Encuentra al jugador con el mayor puntaje en la columna ```Defense```:\n",
        "\n",
        "*Tip: utiliza el método ```idxmax``` para encontrar la fila donde se encuentra el mejor defensa. Después usa el índice para acceder a los datos de la fila.*"
      ]
    },
    {
      "cell_type": "code",
      "metadata": {
        "colab_type": "code",
        "id": "ZYv8MVn4Kfxg",
        "colab": {
          "base_uri": "https://localhost:8080/",
          "height": 104
        },
        "outputId": "d8b3fbef-70f6-4489-a0a2-d758641d944b"
      },
      "source": [
        "defense_df = fifa_df[fifa_df['Position'].str.contains('Back') == True ]\n",
        "def_mx = fifa_df['Defense'].idxmax(axis= 1)\n",
        "fifa_df[[\"Name\", \"Club\", \"Defense\", \"Position\"]].iloc[def_mx,:]\n"
      ],
      "execution_count": 98,
      "outputs": [
        {
          "output_type": "execute_result",
          "data": {
            "text/plain": [
              "Name                             N. Kanté\n",
              "Club                              Chelsea\n",
              "Defense                                86\n",
              "Position    Left Defensive Midfielder LDM\n",
              "Name: 14, dtype: object"
            ]
          },
          "metadata": {
            "tags": []
          },
          "execution_count": 98
        }
      ]
    },
    {
      "cell_type": "markdown",
      "metadata": {
        "colab_type": "text",
        "id": "kgertLU4k6d1"
      },
      "source": [
        "### Porcentaje pie preferido\n",
        "\n",
        "Calcula el porcentaje mundial de jugadores que prefieren utilizar su pierna derecha para controlar el balón y el porcentaje que prefiere utilizar la pierna izquierda.\n",
        "\n",
        "*Tip: El método ```value_counts()``` de objetos Series podría resultarte particularmente útil para esta tarea.*"
      ]
    },
    {
      "cell_type": "code",
      "metadata": {
        "colab_type": "code",
        "id": "sfV8mP74mIv6",
        "colab": {
          "base_uri": "https://localhost:8080/",
          "height": 35
        },
        "outputId": "7fc61fb5-abb7-4be8-9efa-7527a9b3bbbb"
      },
      "source": [
        "pies = fifa_df[\"Preferred Foot\"].value_counts()\n",
        "pies\n",
        "\n",
        "total = pies[\"Right\"]+pies[\"Left\"]\n",
        "derecha = (pies[\"Right\"]/total)*100\n",
        "izquierda = 100-derecha\n",
        "\n",
        "print(\"Porcenta pie derecho\", derecha, \"Porcentaje pie izquierdo\", izquierda)\n",
        "\n"
      ],
      "execution_count": 90,
      "outputs": [
        {
          "output_type": "stream",
          "text": [
            "Porcenta pie derecho 76.77196115637906 Porcentaje pie izquierdo 23.228038843620936\n"
          ],
          "name": "stdout"
        }
      ]
    },
    {
      "cell_type": "markdown",
      "metadata": {
        "colab_type": "text",
        "id": "Bd0Gcj0YkitL"
      },
      "source": [
        "### Equipos con mayor talento promedio\n",
        "\n",
        "Utiliza funciones de agregación y de agrupamiento para obtener a los equipos con el mejor promedio de nivel (```Overall```) entre sus jugadores."
      ]
    },
    {
      "cell_type": "code",
      "metadata": {
        "colab_type": "code",
        "id": "R2m3dzbemJSc",
        "colab": {
          "base_uri": "https://localhost:8080/",
          "height": 35
        },
        "outputId": "dfdeb329-b0a6-4ded-f679-fa418a0f04e5"
      },
      "source": [
        "club = fifa_df.groupby(by='Club').mean()\n",
        "clubBest = club.sort_values(by= 'Overall', ascending=False)\n",
        "clubBest.iloc[0].name"
      ],
      "execution_count": 91,
      "outputs": [
        {
          "output_type": "execute_result",
          "data": {
            "application/vnd.google.colaboratory.intrinsic+json": {
              "type": "string"
            },
            "text/plain": [
              "'Juventus'"
            ]
          },
          "metadata": {
            "tags": []
          },
          "execution_count": 91
        }
      ]
    },
    {
      "cell_type": "markdown",
      "metadata": {
        "colab_type": "text",
        "id": "sGpOyoqskqAX"
      },
      "source": [
        "### Equipos con más costosos (valor comercial)\n",
        "\n",
        "Utiliza funciones de agregación y agrupamiento para encontrar el valor total de de cada club, esto es, la suma de los valores individuales de los jugadores de los Club.\n",
        "\n",
        "Ordena de manera descendente para mostrar los clubs más costosos del mundo."
      ]
    },
    {
      "cell_type": "code",
      "metadata": {
        "colab_type": "code",
        "id": "bncX7I0jmJ0K",
        "colab": {
          "base_uri": "https://localhost:8080/",
          "height": 243
        },
        "outputId": "749051c1-5489-43ad-ef74-c7fccd4305d5"
      },
      "source": [
        "ExpensiveClub = fifa_df.groupby(by='Club').Wage.apply(lambda c: c.abs().sum())\n",
        "ExpensiveClub = ExpensiveClub.sort_values(ascending=False)\n",
        "ExpensiveClub\n",
        "\n",
        "#clubBest.iloc[0].name"
      ],
      "execution_count": 92,
      "outputs": [
        {
          "output_type": "execute_result",
          "data": {
            "text/plain": [
              "Club\n",
              "Real Madrid          5017000.0\n",
              "FC Barcelona         4837000.0\n",
              "Manchester City      3741000.0\n",
              "Manchester United    3391000.0\n",
              "Juventus             3292000.0\n",
              "                       ...    \n",
              "Dalkurd FF             22000.0\n",
              "Shamrock Rovers        22000.0\n",
              "Limerick FC            19000.0\n",
              "Derry City             19000.0\n",
              "Sligo Rovers           19000.0\n",
              "Name: Wage, Length: 651, dtype: float64"
            ]
          },
          "metadata": {
            "tags": []
          },
          "execution_count": 92
        }
      ]
    },
    {
      "cell_type": "markdown",
      "metadata": {
        "colab_type": "text",
        "id": "7AthXgs1l8hn"
      },
      "source": [
        "### ¿Qué equipos tienen más mexicanos?\n",
        "\n",
        "Muestra un top 5 de equipos con más jugadores mexicanos en el mundo."
      ]
    },
    {
      "cell_type": "markdown",
      "metadata": {
        "colab_type": "text",
        "id": "bcyrdPV0p6_0"
      },
      "source": [
        "Primero, crea un dataframe que contiene unicamente jugadores mexicanos:\n",
        "\n",
        "*Tip: Filtra el dataframe usando ```Nationality==Mexico```*."
      ]
    },
    {
      "cell_type": "code",
      "metadata": {
        "colab_type": "code",
        "id": "3rvkuvn0rKkR",
        "colab": {
          "base_uri": "https://localhost:8080/",
          "height": 267
        },
        "outputId": "936ca1d1-2b51-4e1a-841d-62066c840016"
      },
      "source": [
        "players_mx_df = fifa_df[fifa_df['Nationality'].str.contains('Mexico') == True ]\n",
        "club_mx_df = players_mx_df.groupby(by='Club').count()\n",
        "club_MostMx = club_mx_df.sort_values(by='ID', ascending=False)\n",
        "club_MostMx.iloc[0:5]"
      ],
      "execution_count": 93,
      "outputs": [
        {
          "output_type": "execute_result",
          "data": {
            "text/html": [
              "<div>\n",
              "<style scoped>\n",
              "    .dataframe tbody tr th:only-of-type {\n",
              "        vertical-align: middle;\n",
              "    }\n",
              "\n",
              "    .dataframe tbody tr th {\n",
              "        vertical-align: top;\n",
              "    }\n",
              "\n",
              "    .dataframe thead th {\n",
              "        text-align: right;\n",
              "    }\n",
              "</style>\n",
              "<table border=\"1\" class=\"dataframe\">\n",
              "  <thead>\n",
              "    <tr style=\"text-align: right;\">\n",
              "      <th></th>\n",
              "      <th>ID</th>\n",
              "      <th>Name</th>\n",
              "      <th>Nationality</th>\n",
              "      <th>Jersey Number</th>\n",
              "      <th>Value</th>\n",
              "      <th>Wage</th>\n",
              "      <th>Age</th>\n",
              "      <th>Height</th>\n",
              "      <th>Weight</th>\n",
              "      <th>Preferred Foot</th>\n",
              "      <th>Position</th>\n",
              "      <th>Overall</th>\n",
              "      <th>Potential</th>\n",
              "      <th>Shooting</th>\n",
              "      <th>Defense</th>\n",
              "      <th>Passing</th>\n",
              "      <th>Physical</th>\n",
              "      <th>Control</th>\n",
              "      <th>Mental</th>\n",
              "      <th>GoalKeeping</th>\n",
              "      <th>Potential left</th>\n",
              "    </tr>\n",
              "    <tr>\n",
              "      <th>Club</th>\n",
              "      <th></th>\n",
              "      <th></th>\n",
              "      <th></th>\n",
              "      <th></th>\n",
              "      <th></th>\n",
              "      <th></th>\n",
              "      <th></th>\n",
              "      <th></th>\n",
              "      <th></th>\n",
              "      <th></th>\n",
              "      <th></th>\n",
              "      <th></th>\n",
              "      <th></th>\n",
              "      <th></th>\n",
              "      <th></th>\n",
              "      <th></th>\n",
              "      <th></th>\n",
              "      <th></th>\n",
              "      <th></th>\n",
              "      <th></th>\n",
              "      <th></th>\n",
              "    </tr>\n",
              "  </thead>\n",
              "  <tbody>\n",
              "    <tr>\n",
              "      <th>Guadalajara</th>\n",
              "      <td>29</td>\n",
              "      <td>29</td>\n",
              "      <td>29</td>\n",
              "      <td>29</td>\n",
              "      <td>29</td>\n",
              "      <td>29</td>\n",
              "      <td>29</td>\n",
              "      <td>29</td>\n",
              "      <td>29</td>\n",
              "      <td>29</td>\n",
              "      <td>29</td>\n",
              "      <td>29</td>\n",
              "      <td>29</td>\n",
              "      <td>29</td>\n",
              "      <td>29</td>\n",
              "      <td>29</td>\n",
              "      <td>29</td>\n",
              "      <td>29</td>\n",
              "      <td>29</td>\n",
              "      <td>29</td>\n",
              "      <td>29</td>\n",
              "    </tr>\n",
              "    <tr>\n",
              "      <th>U.N.A.M.</th>\n",
              "      <td>21</td>\n",
              "      <td>21</td>\n",
              "      <td>21</td>\n",
              "      <td>21</td>\n",
              "      <td>21</td>\n",
              "      <td>21</td>\n",
              "      <td>21</td>\n",
              "      <td>21</td>\n",
              "      <td>21</td>\n",
              "      <td>21</td>\n",
              "      <td>21</td>\n",
              "      <td>21</td>\n",
              "      <td>21</td>\n",
              "      <td>21</td>\n",
              "      <td>21</td>\n",
              "      <td>21</td>\n",
              "      <td>21</td>\n",
              "      <td>21</td>\n",
              "      <td>21</td>\n",
              "      <td>21</td>\n",
              "      <td>21</td>\n",
              "    </tr>\n",
              "    <tr>\n",
              "      <th>Club Atlas</th>\n",
              "      <td>20</td>\n",
              "      <td>20</td>\n",
              "      <td>20</td>\n",
              "      <td>20</td>\n",
              "      <td>20</td>\n",
              "      <td>20</td>\n",
              "      <td>20</td>\n",
              "      <td>20</td>\n",
              "      <td>20</td>\n",
              "      <td>20</td>\n",
              "      <td>20</td>\n",
              "      <td>20</td>\n",
              "      <td>20</td>\n",
              "      <td>20</td>\n",
              "      <td>20</td>\n",
              "      <td>20</td>\n",
              "      <td>20</td>\n",
              "      <td>20</td>\n",
              "      <td>20</td>\n",
              "      <td>20</td>\n",
              "      <td>20</td>\n",
              "    </tr>\n",
              "    <tr>\n",
              "      <th>Club Necaxa</th>\n",
              "      <td>20</td>\n",
              "      <td>20</td>\n",
              "      <td>20</td>\n",
              "      <td>20</td>\n",
              "      <td>20</td>\n",
              "      <td>20</td>\n",
              "      <td>20</td>\n",
              "      <td>20</td>\n",
              "      <td>20</td>\n",
              "      <td>20</td>\n",
              "      <td>20</td>\n",
              "      <td>20</td>\n",
              "      <td>20</td>\n",
              "      <td>20</td>\n",
              "      <td>20</td>\n",
              "      <td>20</td>\n",
              "      <td>20</td>\n",
              "      <td>20</td>\n",
              "      <td>20</td>\n",
              "      <td>20</td>\n",
              "      <td>20</td>\n",
              "    </tr>\n",
              "    <tr>\n",
              "      <th>Querétaro</th>\n",
              "      <td>19</td>\n",
              "      <td>19</td>\n",
              "      <td>19</td>\n",
              "      <td>19</td>\n",
              "      <td>19</td>\n",
              "      <td>19</td>\n",
              "      <td>19</td>\n",
              "      <td>19</td>\n",
              "      <td>19</td>\n",
              "      <td>19</td>\n",
              "      <td>19</td>\n",
              "      <td>19</td>\n",
              "      <td>19</td>\n",
              "      <td>19</td>\n",
              "      <td>19</td>\n",
              "      <td>19</td>\n",
              "      <td>19</td>\n",
              "      <td>19</td>\n",
              "      <td>19</td>\n",
              "      <td>19</td>\n",
              "      <td>19</td>\n",
              "    </tr>\n",
              "  </tbody>\n",
              "</table>\n",
              "</div>"
            ],
            "text/plain": [
              "             ID  Name  Nationality  ...  Mental  GoalKeeping  Potential left\n",
              "Club                                ...                                     \n",
              "Guadalajara  29    29           29  ...      29           29              29\n",
              "U.N.A.M.     21    21           21  ...      21           21              21\n",
              "Club Atlas   20    20           20  ...      20           20              20\n",
              "Club Necaxa  20    20           20  ...      20           20              20\n",
              "Querétaro    19    19           19  ...      19           19              19\n",
              "\n",
              "[5 rows x 21 columns]"
            ]
          },
          "metadata": {
            "tags": []
          },
          "execution_count": 93
        }
      ]
    },
    {
      "cell_type": "markdown",
      "metadata": {
        "colab_type": "text",
        "id": "GOeknoZwpxSQ"
      },
      "source": [
        "Agrupa por el nombre del club y cuenta:"
      ]
    },
    {
      "cell_type": "code",
      "metadata": {
        "colab_type": "code",
        "id": "1RN0-mwMJVXI",
        "colab": {
          "base_uri": "https://localhost:8080/",
          "height": 1000
        },
        "outputId": "1af88da1-1c79-437c-d720-ee06ea686447"
      },
      "source": [
        "Clubplayers_mx_df = pd.DataFrame.from_dict(club_MostMx)\n",
        "Clubps = Clubplayers_mx_df.filter(['ID'])\n",
        "Clubps.rename(columns={'ID': 'Total de Jugadores'})\n",
        "Clubps"
      ],
      "execution_count": 94,
      "outputs": [
        {
          "output_type": "execute_result",
          "data": {
            "text/html": [
              "<div>\n",
              "<style scoped>\n",
              "    .dataframe tbody tr th:only-of-type {\n",
              "        vertical-align: middle;\n",
              "    }\n",
              "\n",
              "    .dataframe tbody tr th {\n",
              "        vertical-align: top;\n",
              "    }\n",
              "\n",
              "    .dataframe thead th {\n",
              "        text-align: right;\n",
              "    }\n",
              "</style>\n",
              "<table border=\"1\" class=\"dataframe\">\n",
              "  <thead>\n",
              "    <tr style=\"text-align: right;\">\n",
              "      <th></th>\n",
              "      <th>ID</th>\n",
              "    </tr>\n",
              "    <tr>\n",
              "      <th>Club</th>\n",
              "      <th></th>\n",
              "    </tr>\n",
              "  </thead>\n",
              "  <tbody>\n",
              "    <tr>\n",
              "      <th>Guadalajara</th>\n",
              "      <td>29</td>\n",
              "    </tr>\n",
              "    <tr>\n",
              "      <th>U.N.A.M.</th>\n",
              "      <td>21</td>\n",
              "    </tr>\n",
              "    <tr>\n",
              "      <th>Club Atlas</th>\n",
              "      <td>20</td>\n",
              "    </tr>\n",
              "    <tr>\n",
              "      <th>Club Necaxa</th>\n",
              "      <td>20</td>\n",
              "    </tr>\n",
              "    <tr>\n",
              "      <th>Querétaro</th>\n",
              "      <td>19</td>\n",
              "    </tr>\n",
              "    <tr>\n",
              "      <th>Tigres U.A.N.L.</th>\n",
              "      <td>19</td>\n",
              "    </tr>\n",
              "    <tr>\n",
              "      <th>Tiburones Rojos de Veracruz</th>\n",
              "      <td>18</td>\n",
              "    </tr>\n",
              "    <tr>\n",
              "      <th>Club América</th>\n",
              "      <td>18</td>\n",
              "    </tr>\n",
              "    <tr>\n",
              "      <th>Club León</th>\n",
              "      <td>18</td>\n",
              "    </tr>\n",
              "    <tr>\n",
              "      <th>Puebla FC</th>\n",
              "      <td>18</td>\n",
              "    </tr>\n",
              "    <tr>\n",
              "      <th>Pachuca</th>\n",
              "      <td>18</td>\n",
              "    </tr>\n",
              "    <tr>\n",
              "      <th>Monarcas Morelia</th>\n",
              "      <td>17</td>\n",
              "    </tr>\n",
              "    <tr>\n",
              "      <th>Deportivo Toluca</th>\n",
              "      <td>17</td>\n",
              "    </tr>\n",
              "    <tr>\n",
              "      <th>Monterrey</th>\n",
              "      <td>16</td>\n",
              "    </tr>\n",
              "    <tr>\n",
              "      <th>Cruz Azul</th>\n",
              "      <td>16</td>\n",
              "    </tr>\n",
              "    <tr>\n",
              "      <th>Club Tijuana</th>\n",
              "      <td>16</td>\n",
              "    </tr>\n",
              "    <tr>\n",
              "      <th>Lobos BUAP</th>\n",
              "      <td>16</td>\n",
              "    </tr>\n",
              "    <tr>\n",
              "      <th>Santos Laguna</th>\n",
              "      <td>15</td>\n",
              "    </tr>\n",
              "    <tr>\n",
              "      <th>CD Everton de Viña del Mar</th>\n",
              "      <td>4</td>\n",
              "    </tr>\n",
              "    <tr>\n",
              "      <th>PSV</th>\n",
              "      <td>2</td>\n",
              "    </tr>\n",
              "    <tr>\n",
              "      <th>Boyacá Chicó FC</th>\n",
              "      <td>2</td>\n",
              "    </tr>\n",
              "    <tr>\n",
              "      <th>FC Porto</th>\n",
              "      <td>2</td>\n",
              "    </tr>\n",
              "    <tr>\n",
              "      <th>LA Galaxy</th>\n",
              "      <td>2</td>\n",
              "    </tr>\n",
              "    <tr>\n",
              "      <th>Eintracht Frankfurt</th>\n",
              "      <td>2</td>\n",
              "    </tr>\n",
              "    <tr>\n",
              "      <th>Standard de Liège</th>\n",
              "      <td>1</td>\n",
              "    </tr>\n",
              "    <tr>\n",
              "      <th>Real Sociedad</th>\n",
              "      <td>1</td>\n",
              "    </tr>\n",
              "    <tr>\n",
              "      <th>Vancouver Whitecaps FC</th>\n",
              "      <td>1</td>\n",
              "    </tr>\n",
              "    <tr>\n",
              "      <th>Villarreal CF</th>\n",
              "      <td>1</td>\n",
              "    </tr>\n",
              "    <tr>\n",
              "      <th>Seattle Sounders FC</th>\n",
              "      <td>1</td>\n",
              "    </tr>\n",
              "    <tr>\n",
              "      <th>West Ham United</th>\n",
              "      <td>1</td>\n",
              "    </tr>\n",
              "    <tr>\n",
              "      <th>Royal Antwerp FC</th>\n",
              "      <td>1</td>\n",
              "    </tr>\n",
              "    <tr>\n",
              "      <th>Atlético Huila</th>\n",
              "      <td>1</td>\n",
              "    </tr>\n",
              "    <tr>\n",
              "      <th>Real Salt Lake</th>\n",
              "      <td>1</td>\n",
              "    </tr>\n",
              "    <tr>\n",
              "      <th>Real Oviedo</th>\n",
              "      <td>1</td>\n",
              "    </tr>\n",
              "    <tr>\n",
              "      <th>Real Betis</th>\n",
              "      <td>1</td>\n",
              "    </tr>\n",
              "    <tr>\n",
              "      <th>RC Celta</th>\n",
              "      <td>1</td>\n",
              "    </tr>\n",
              "    <tr>\n",
              "      <th>Los Angeles FC</th>\n",
              "      <td>1</td>\n",
              "    </tr>\n",
              "    <tr>\n",
              "      <th>La Equidad</th>\n",
              "      <td>1</td>\n",
              "    </tr>\n",
              "    <tr>\n",
              "      <th>Fenerbahçe SK</th>\n",
              "      <td>1</td>\n",
              "    </tr>\n",
              "    <tr>\n",
              "      <th>FC Groningen</th>\n",
              "      <td>1</td>\n",
              "    </tr>\n",
              "    <tr>\n",
              "      <th>FC Dallas</th>\n",
              "      <td>1</td>\n",
              "    </tr>\n",
              "    <tr>\n",
              "      <th>Chicago Fire</th>\n",
              "      <td>1</td>\n",
              "    </tr>\n",
              "    <tr>\n",
              "      <th>CD Feirense</th>\n",
              "      <td>1</td>\n",
              "    </tr>\n",
              "    <tr>\n",
              "      <th>Wolverhampton Wanderers</th>\n",
              "      <td>1</td>\n",
              "    </tr>\n",
              "  </tbody>\n",
              "</table>\n",
              "</div>"
            ],
            "text/plain": [
              "                             ID\n",
              "Club                           \n",
              "Guadalajara                  29\n",
              "U.N.A.M.                     21\n",
              "Club Atlas                   20\n",
              "Club Necaxa                  20\n",
              "Querétaro                    19\n",
              "Tigres U.A.N.L.              19\n",
              "Tiburones Rojos de Veracruz  18\n",
              "Club América                 18\n",
              "Club León                    18\n",
              "Puebla FC                    18\n",
              "Pachuca                      18\n",
              "Monarcas Morelia             17\n",
              "Deportivo Toluca             17\n",
              "Monterrey                    16\n",
              "Cruz Azul                    16\n",
              "Club Tijuana                 16\n",
              "Lobos BUAP                   16\n",
              "Santos Laguna                15\n",
              "CD Everton de Viña del Mar    4\n",
              "PSV                           2\n",
              "Boyacá Chicó FC               2\n",
              "FC Porto                      2\n",
              "LA Galaxy                     2\n",
              "Eintracht Frankfurt           2\n",
              "Standard de Liège             1\n",
              "Real Sociedad                 1\n",
              "Vancouver Whitecaps FC        1\n",
              "Villarreal CF                 1\n",
              "Seattle Sounders FC           1\n",
              "West Ham United               1\n",
              "Royal Antwerp FC              1\n",
              "Atlético Huila                1\n",
              "Real Salt Lake                1\n",
              "Real Oviedo                   1\n",
              "Real Betis                    1\n",
              "RC Celta                      1\n",
              "Los Angeles FC                1\n",
              "La Equidad                    1\n",
              "Fenerbahçe SK                 1\n",
              "FC Groningen                  1\n",
              "FC Dallas                     1\n",
              "Chicago Fire                  1\n",
              "CD Feirense                   1\n",
              "Wolverhampton Wanderers       1"
            ]
          },
          "metadata": {
            "tags": []
          },
          "execution_count": 94
        }
      ]
    },
    {
      "cell_type": "markdown",
      "metadata": {
        "colab_type": "text",
        "id": "f5Vi_hQCbyDL"
      },
      "source": [
        "## Visualización\n",
        "\n",
        "Utiliza las opciones de visualización de Pandas."
      ]
    },
    {
      "cell_type": "markdown",
      "metadata": {
        "colab_type": "text",
        "id": "gIE5S2l6kQaL"
      },
      "source": [
        "### Histograma de las edades de los jugadores de futbol\n",
        "\n",
        "Selecciona la columna ``Age``` del dataframe ```fifa_df``` y muestra el histograma usando las opciones de visualización de Pandas:"
      ]
    },
    {
      "cell_type": "code",
      "metadata": {
        "colab_type": "code",
        "id": "6zlGLD6Yb8XQ",
        "colab": {
          "base_uri": "https://localhost:8080/",
          "height": 283
        },
        "outputId": "227fb964-5db5-4693-a515-87e2a907b02e"
      },
      "source": [
        "fifa_df[\"Age\"].plot.hist(bins=10)"
      ],
      "execution_count": 95,
      "outputs": [
        {
          "output_type": "execute_result",
          "data": {
            "text/plain": [
              "<matplotlib.axes._subplots.AxesSubplot at 0x7f4ffca1e0b8>"
            ]
          },
          "metadata": {
            "tags": []
          },
          "execution_count": 95
        },
        {
          "output_type": "display_data",
          "data": {
            "image/png": "[encoded data removed]",
            "text/plain": [
              "<Figure size 432x288 with 1 Axes>"
            ]
          },
          "metadata": {
            "tags": [],
            "needs_background": "light"
          }
        }
      ]
    },
    {
      "cell_type": "markdown",
      "metadata": {
        "colab_type": "text",
        "id": "K-ZhgvfWR_rT"
      },
      "source": [
        "### Gráfica de Pie (Preferred Foot)\n",
        "\n",
        "Selecciónes el conteo de valores del pie preferido (columna ```Preferred Foot```) y muestra la información mediante una gráfica de Pie:"
      ]
    },
    {
      "cell_type": "code",
      "metadata": {
        "colab_type": "code",
        "id": "wT4II3U_R_51",
        "colab": {
          "base_uri": "https://localhost:8080/",
          "height": 265
        },
        "outputId": "fb789982-1b1e-4889-c29f-656d5147df07"
      },
      "source": [
        "pies.plot.pie()"
      ],
      "execution_count": 96,
      "outputs": [
        {
          "output_type": "execute_result",
          "data": {
            "text/plain": [
              "<matplotlib.axes._subplots.AxesSubplot at 0x7f4ffc7bf550>"
            ]
          },
          "metadata": {
            "tags": []
          },
          "execution_count": 96
        },
        {
          "output_type": "display_data",
          "data": {
            "image/png": "[encoded data removed]",
            "text/plain": [
              "<Figure size 432x288 with 1 Axes>"
            ]
          },
          "metadata": {
            "tags": []
          }
        }
      ]
    },
    {
      "cell_type": "markdown",
      "metadata": {
        "colab_type": "text",
        "id": "88Quw6tnb88P"
      },
      "source": [
        "### Gráfica de dispersión Edad vs Potential left\n",
        "\n",
        "Ahora, utiliza una gráfica de dispersión para visualizar el comportamiento del potencial por alcanzar (```Potential left```) de acuerdo a las edades de los jugadores:\n",
        "\n",
        "*Tip: La gráfica debe mostrar la edad en un eje y el potencial por alcanzar en el otro.*"
      ]
    },
    {
      "cell_type": "code",
      "metadata": {
        "colab_type": "code",
        "id": "A8oJxUi5kc8B",
        "colab": {
          "base_uri": "https://localhost:8080/",
          "height": 297
        },
        "outputId": "22cc3e8c-598a-440d-99ae-b5d88385276b"
      },
      "source": [
        "fifa_df.plot.scatter(\"Age\", \"Potential left\")"
      ],
      "execution_count": 97,
      "outputs": [
        {
          "output_type": "execute_result",
          "data": {
            "text/plain": [
              "<matplotlib.axes._subplots.AxesSubplot at 0x7f4ffc33c128>"
            ]
          },
          "metadata": {
            "tags": []
          },
          "execution_count": 97
        },
        {
          "output_type": "display_data",
          "data": {
            "image/png": "[encoded data removed]",
            "text/plain": [
              "<Figure size 432x288 with 1 Axes>"
            ]
          },
          "metadata": {
            "tags": [],
            "needs_background": "light"
          }
        }
      ]
    },
    {
      "cell_type": "markdown",
      "metadata": {
        "colab_type": "text",
        "id": "SSr_il5HRx5A"
      },
      "source": [
        "¿Qué otras variables o mezcla de variables sería interesante visualizar?"
      ]
    },
    {
      "cell_type": "markdown",
      "metadata": {
        "colab_type": "text",
        "id": "8NCzkort1t2j"
      },
      "source": [
        "# Desafío Adicional (No calificado)\n",
        "\n",
        "En la práctica con Numpy, creaste un modelo para identificar imágenes de dígitos escritos a mano. \n",
        "\n",
        "Para este nuevo conjunto de datos, ¿podrías usar una metodología similar para encontrar la posición en el campo de un jugador solamente usando los valores de su habilidades? \n",
        "\n",
        "Skills: ```Shooting \tDefense \tPassing \tPhysical \tControl \tMental \tGoalKeeping```"
      ]
    },
    {
      "cell_type": "code",
      "metadata": {
        "colab_type": "code",
        "id": "HTOqsnGF1u7E",
        "colab": {}
      },
      "source": [
        ""
      ],
      "execution_count": 97,
      "outputs": []
    }
  ]
}